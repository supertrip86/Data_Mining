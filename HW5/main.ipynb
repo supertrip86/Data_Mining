{
 "cells": [
  {
   "cell_type": "code",
   "execution_count": 1,
   "metadata": {},
   "outputs": [],
   "source": [
    "import pickle\n",
    "import functions as ft"
   ]
  },
  {
   "cell_type": "markdown",
   "metadata": {},
   "source": [
    "First thing, we create a Graph based on the given data. Such data consist in Wikipedia pages belonging to Categories that have between 5000 and 30000 articles each. From now on, we will treat each article as a node in our Graph."
   ]
  },
  {
   "cell_type": "code",
   "execution_count": 2,
   "metadata": {},
   "outputs": [],
   "source": [
    "G = ft.generate_graph()"
   ]
  },
  {
   "cell_type": "markdown",
   "metadata": {},
   "source": [
    "We now want to map each node in our Graph to its corresponding category. For this purpose, we create a dictionary called \"cleaned_dict\". The only nodes we consider are the ones from the file \"wikigraph_reduced.csv\"."
   ]
  },
  {
   "cell_type": "code",
   "execution_count": 3,
   "metadata": {},
   "outputs": [],
   "source": [
    "# cleaned_dict = ft.inverted_dictionary(G)\n",
    "\n",
    "# with open(\"cleaned_dict.pkl\", \"wb\") as f:\n",
    "#     pickle.dump(cleaned_dict,f)"
   ]
  },
  {
   "cell_type": "markdown",
   "metadata": {},
   "source": [
    "Since we break ties randomly between nodes that belong to different categories, we keep using the same dictionary saved as a Pickle variable"
   ]
  },
  {
   "cell_type": "code",
   "execution_count": 4,
   "metadata": {},
   "outputs": [],
   "source": [
    "with open(\"cleaned_dict.pkl\", \"rb\") as f:\n",
    "    cleaned_dict = pickle.load(f)"
   ]
  },
  {
   "cell_type": "markdown",
   "metadata": {},
   "source": [
    "As an additional resource, we create a second dictionary where we group all nodes according to the each Category."
   ]
  },
  {
   "cell_type": "code",
   "execution_count": 5,
   "metadata": {},
   "outputs": [],
   "source": [
    "category_dict = ft.category_dict(cleaned_dict)"
   ]
  },
  {
   "cell_type": "markdown",
   "metadata": {},
   "source": [
    "## Question 1\n",
    "\n",
    "- Is the Graph directed?\n",
    "\n",
    "The Graph is obsviously directed, as it is just a representation of a small Wikipedia subgraph. Webpages are intrinsecally directed to each other, as there is no guarantee that, when leaving a page, we will find a link that will bring us back to the page we just left.\n",
    "However, for the sake of completeness, we are also going to prove it by checking whether there are at least two nodes in our Graph that are not both connected to each other."
   ]
  },
  {
   "cell_type": "code",
   "execution_count": 6,
   "metadata": {},
   "outputs": [
    {
     "data": {
      "text/plain": [
       "True"
      ]
     },
     "execution_count": 6,
     "metadata": {},
     "output_type": "execute_result"
    }
   ],
   "source": [
    "ft.check_if_is_direct(G)"
   ]
  },
  {
   "cell_type": "markdown",
   "metadata": {},
   "source": [
    "- How many articles are we considering?\n",
    "\n",
    "We make use of the networkx \"number_of_nodes\" method to get the number of articles in the Graph"
   ]
  },
  {
   "cell_type": "code",
   "execution_count": 7,
   "metadata": {},
   "outputs": [
    {
     "data": {
      "text/plain": [
       "98343"
      ]
     },
     "execution_count": 7,
     "metadata": {},
     "output_type": "execute_result"
    }
   ],
   "source": [
    "ft.get_articles(G)"
   ]
  },
  {
   "cell_type": "markdown",
   "metadata": {},
   "source": [
    "- How many hyperlinks between pages exist?\n",
    "\n",
    "We make use of the networkx \"number_of_edges\" method to get the number of hyperlinks in all the articles"
   ]
  },
  {
   "cell_type": "code",
   "execution_count": 8,
   "metadata": {},
   "outputs": [
    {
     "data": {
      "text/plain": [
       "483094"
      ]
     },
     "execution_count": 8,
     "metadata": {},
     "output_type": "execute_result"
    }
   ],
   "source": [
    "ft.get_hyperlinks(G)"
   ]
  },
  {
   "cell_type": "markdown",
   "metadata": {},
   "source": [
    "- Compute the average number of links in an arbitrary page. What is the graph density? Do you believe that the graph is dense or sparse? Is the graph dense?\n",
    "\n",
    "We can say that a graph is dense if the number of edges is close to the maximum number of edges it can possibly have. \n",
    "<br>\n",
    "The Density of a graph can be defined as: \n",
    "${\\displaystyle D={\\frac {|E|}{2\\binom {|V|}{2}}}={\\frac {|E|}{|V|(|V|-1)}}}$"
   ]
  },
  {
   "cell_type": "code",
   "execution_count": 9,
   "metadata": {},
   "outputs": [
    {
     "name": "stdout",
     "output_type": "stream",
     "text": [
      "4.9951571365597335e-05\n"
     ]
    }
   ],
   "source": [
    "n = ft.get_articles(G)\n",
    "m = ft.get_hyperlinks(G)\n",
    "\n",
    "density = (m)/(n*(n-1))\n",
    "\n",
    "print(density)"
   ]
  },
  {
   "cell_type": "markdown",
   "metadata": {},
   "source": [
    "We got a density value equal to 4.9951571365597335e-05. Considering that the maximum possible density of a graph is 1, it is easily observable that there is a huge discrepancy between the maximum value and the actual density that we have found. Therefore we conclude that the observed graph is sparse."
   ]
  },
  {
   "cell_type": "markdown",
   "metadata": {},
   "source": [
    "- Visualize the nodes' degree distribution"
   ]
  },
  {
   "cell_type": "code",
   "execution_count": 10,
   "metadata": {},
   "outputs": [
    {
     "data": {
      "image/png": "[encoded data removed]",
      "text/plain": [
       "<Figure size 1152x648 with 1 Axes>"
      ]
     },
     "metadata": {
      "needs_background": "light"
     },
     "output_type": "display_data"
    }
   ],
   "source": [
    "ft.plot_our_graph(G)"
   ]
  },
  {
   "cell_type": "markdown",
   "metadata": {},
   "source": [
    "## Question 2\n",
    "\n",
    "Here we define a function that takes as input the integer corresponding to an arbitrary node and a given number of clicks, and returns the set of all the pages we can visit within that number of clicks."
   ]
  },
  {
   "cell_type": "code",
   "execution_count": 11,
   "metadata": {},
   "outputs": [
    {
     "data": {
      "text/plain": [
       "{150451, 1062563, 1178930, 1184017, 1184695, 1185516, 1761109}"
      ]
     },
     "execution_count": 11,
     "metadata": {},
     "output_type": "execute_result"
    }
   ],
   "source": [
    "ft.path_within_clicks(G, 95, 2) # 95 is the chosen node, 2 is the number of clicks"
   ]
  },
  {
   "cell_type": "markdown",
   "metadata": {},
   "source": [
    "## Question 3\n",
    "\n",
    "Propedeutically to the implementation of our algorithm, we need a dictionary mapping each node to its out-degree. We name it \"degree_dict\""
   ]
  },
  {
   "cell_type": "code",
   "execution_count": 12,
   "metadata": {},
   "outputs": [],
   "source": [
    "degree_dict = ft.get_degree_dict(G)"
   ]
  },
  {
   "cell_type": "markdown",
   "metadata": {},
   "source": [
    "The function we have developed below makes use of the Breadth First Search algorithm"
   ]
  },
  {
   "cell_type": "code",
   "execution_count": 13,
   "metadata": {},
   "outputs": [
    {
     "name": "stdout",
     "output_type": "stream",
     "text": [
      "Insert the category: English_football_managers\n",
      "Insert pages separated by a blank space: 76871 74988 83096\n",
      "Not possible\n"
     ]
    },
    {
     "data": {
      "text/plain": [
       "64010"
      ]
     },
     "execution_count": 13,
     "metadata": {},
     "output_type": "execute_result"
    }
   ],
   "source": [
    "ft.bfs(G, category_dict, degree_dict)"
   ]
  },
  {
   "cell_type": "markdown",
   "metadata": {},
   "source": [
    "Turns out it is not possible to reach all the nodes in input."
   ]
  },
  {
   "cell_type": "markdown",
   "metadata": {},
   "source": [
    "## Question 4\n",
    "\n",
    "As per our homework requirement, we first create a subgraph out of two given Categories:"
   ]
  },
  {
   "cell_type": "code",
   "execution_count": 14,
   "metadata": {},
   "outputs": [
    {
     "name": "stdout",
     "output_type": "stream",
     "text": [
      "Insert First Category: Living_people\n",
      "Insert Second Category: People_from_Boston,_Massachusetts\n"
     ]
    }
   ],
   "source": [
    "H = ft.create_subGraph(G, category_dict)"
   ]
  },
  {
   "cell_type": "markdown",
   "metadata": {},
   "source": [
    "Now that we have the desired subgraph, we use the min cut algorithm to find all the possible paths between two given nodes."
   ]
  },
  {
   "cell_type": "code",
   "execution_count": 15,
   "metadata": {},
   "outputs": [
    {
     "name": "stdout",
     "output_type": "stream",
     "text": [
      "Found\n",
      "[82909, 85125]\n",
      "1\n",
      "Found\n",
      "2\n"
     ]
    },
    {
     "data": {
      "text/plain": [
       "2"
      ]
     },
     "execution_count": 15,
     "metadata": {},
     "output_type": "execute_result"
    }
   ],
   "source": [
    "ft.min_cut(H, 82909, 85125)"
   ]
  },
  {
   "cell_type": "markdown",
   "metadata": {},
   "source": [
    "According to our result, 2 is the minimum number of links that needs to be removed so that the given two nodes end up being disconnected"
   ]
  },
  {
   "cell_type": "markdown",
   "metadata": {},
   "source": [
    "## Question 5\n",
    "\n",
    "To find the shortest paths between each Category and the one in input, we make use of the breadth first search algorithm. We calculate the distance between each node of the given Category and all the other nodes from the other Categories, and store them in a dictionary that associates each Category to a list of all the shortest paths between its nodes and the ones from all the other Categories.\n",
    "Once the dictionary is ready, we compute the median for each category, and sort the result according to each distance, from the furthest to the closest."
   ]
  },
  {
   "cell_type": "code",
   "execution_count": 16,
   "metadata": {},
   "outputs": [
    {
     "name": "stdout",
     "output_type": "stream",
     "text": [
      "Insert a Category: Ojibwe_people\n"
     ]
    }
   ],
   "source": [
    "shortest_paths = ft.get_shortest_paths(G, category_dict, cleaned_dict)"
   ]
  },
  {
   "cell_type": "markdown",
   "metadata": {},
   "source": [
    "Here we return a sample with the 10 most distant categories from the one in input. "
   ]
  },
  {
   "cell_type": "code",
   "execution_count": 17,
   "metadata": {},
   "outputs": [
    {
     "data": {
      "text/plain": [
       "['Lille_OSC_players',\n",
       " 'NK_Maribor_players',\n",
       " 'Hong_Kong_First_Division_League_players',\n",
       " 'Brescia_Calcio_players',\n",
       " 'A.C._Arezzo_players',\n",
       " 'A.S._Varese_1910_players',\n",
       " 'Expatriate_footballers_in_Hong_Kong',\n",
       " 'Calcio_Padova_players',\n",
       " 'V2_Records_albums',\n",
       " 'Jazz_fusion_albums']"
      ]
     },
     "execution_count": 17,
     "metadata": {},
     "output_type": "execute_result"
    }
   ],
   "source": [
    "shortest_paths[:10]"
   ]
  },
  {
   "cell_type": "markdown",
   "metadata": {},
   "source": [
    "## Question 6\n",
    "\n",
    "Since the assignment is asking to model a network of Categories, we create a new graph called \"Z\", where we concentrate all nodes from each category into a \"supernode\" that keeps all the edges from its original nodes."
   ]
  },
  {
   "cell_type": "code",
   "execution_count": 18,
   "metadata": {},
   "outputs": [],
   "source": [
    "Z = ft.model_network(G, category_dict)"
   ]
  },
  {
   "cell_type": "markdown",
   "metadata": {},
   "source": [
    "Our approach is to represent Z as a matrix. Given that there is a lot of variation between the integers representing each node of the Graph, we \"map\" each integer to a number in the range from 0 to the total number of supernodes in Z. Such approach also let us finding back the original integer representing the node. For this purpose, we create the two dictionaries below: the first one is to go from the original integer to the index of the matrix, the second one to find back the original value identifying the node of Z (which corresponds to a specific Category)."
   ]
  },
  {
   "cell_type": "code",
   "execution_count": 19,
   "metadata": {},
   "outputs": [],
   "source": [
    "category_map_int, inv_category_map = ft.get_mapping_dict(Z)"
   ]
  },
  {
   "cell_type": "markdown",
   "metadata": {},
   "source": [
    "Now we are ready to implement our PageRank algorithm and calculate all the pageranks for each category out of the google matrix. The output is sorted according to the pageranks."
   ]
  },
  {
   "cell_type": "code",
   "execution_count": 20,
   "metadata": {},
   "outputs": [],
   "source": [
    "page_rank = ft.pagerank(Z, category_map_int, inv_category_map, cleaned_dict)\n",
    "head = ft.get_pagerank_head(page_rank, 20)"
   ]
  },
  {
   "cell_type": "markdown",
   "metadata": {},
   "source": [
    "For visual simplicity, we show the first 20 categories that has the highest pagerank score."
   ]
  },
  {
   "cell_type": "code",
   "execution_count": 21,
   "metadata": {},
   "outputs": [
    {
     "data": {
      "text/html": [
       "<div>\n",
       "<style scoped>\n",
       "    .dataframe tbody tr th:only-of-type {\n",
       "        vertical-align: middle;\n",
       "    }\n",
       "\n",
       "    .dataframe tbody tr th {\n",
       "        vertical-align: top;\n",
       "    }\n",
       "\n",
       "    .dataframe thead th {\n",
       "        text-align: right;\n",
       "    }\n",
       "</style>\n",
       "<table border=\"1\" class=\"dataframe\">\n",
       "  <thead>\n",
       "    <tr style=\"text-align: right;\">\n",
       "      <th></th>\n",
       "      <th>Category</th>\n",
       "      <th>PageRank</th>\n",
       "    </tr>\n",
       "  </thead>\n",
       "  <tbody>\n",
       "    <tr>\n",
       "      <th>1</th>\n",
       "      <td>Living_people</td>\n",
       "      <td>0.013163</td>\n",
       "    </tr>\n",
       "    <tr>\n",
       "      <th>2</th>\n",
       "      <td>English-language_films</td>\n",
       "      <td>0.005639</td>\n",
       "    </tr>\n",
       "    <tr>\n",
       "      <th>3</th>\n",
       "      <td>American_film_actors</td>\n",
       "      <td>0.005339</td>\n",
       "    </tr>\n",
       "    <tr>\n",
       "      <th>4</th>\n",
       "      <td>American_television_actors</td>\n",
       "      <td>0.004582</td>\n",
       "    </tr>\n",
       "    <tr>\n",
       "      <th>5</th>\n",
       "      <td>American_films</td>\n",
       "      <td>0.004421</td>\n",
       "    </tr>\n",
       "    <tr>\n",
       "      <th>6</th>\n",
       "      <td>Harvard_University_alumni</td>\n",
       "      <td>0.004326</td>\n",
       "    </tr>\n",
       "    <tr>\n",
       "      <th>7</th>\n",
       "      <td>Year_of_birth_missing</td>\n",
       "      <td>0.003668</td>\n",
       "    </tr>\n",
       "    <tr>\n",
       "      <th>8</th>\n",
       "      <td>English_footballers</td>\n",
       "      <td>0.003194</td>\n",
       "    </tr>\n",
       "    <tr>\n",
       "      <th>9</th>\n",
       "      <td>Year_of_death_missing</td>\n",
       "      <td>0.003182</td>\n",
       "    </tr>\n",
       "    <tr>\n",
       "      <th>10</th>\n",
       "      <td>Association_football_midfielders</td>\n",
       "      <td>0.003097</td>\n",
       "    </tr>\n",
       "    <tr>\n",
       "      <th>11</th>\n",
       "      <td>Members_of_the_United_Kingdom_Parliament_for_E...</td>\n",
       "      <td>0.002874</td>\n",
       "    </tr>\n",
       "    <tr>\n",
       "      <th>12</th>\n",
       "      <td>American_stage_actors</td>\n",
       "      <td>0.002735</td>\n",
       "    </tr>\n",
       "    <tr>\n",
       "      <th>13</th>\n",
       "      <td>The_Football_League_players</td>\n",
       "      <td>0.002714</td>\n",
       "    </tr>\n",
       "    <tr>\n",
       "      <th>14</th>\n",
       "      <td>Premier_League_players</td>\n",
       "      <td>0.002680</td>\n",
       "    </tr>\n",
       "    <tr>\n",
       "      <th>15</th>\n",
       "      <td>Association_football_forwards</td>\n",
       "      <td>0.002642</td>\n",
       "    </tr>\n",
       "    <tr>\n",
       "      <th>16</th>\n",
       "      <td>Black-and-white_films</td>\n",
       "      <td>0.002588</td>\n",
       "    </tr>\n",
       "    <tr>\n",
       "      <th>17</th>\n",
       "      <td>Place_of_birth_missing_(living_people)</td>\n",
       "      <td>0.002348</td>\n",
       "    </tr>\n",
       "    <tr>\n",
       "      <th>18</th>\n",
       "      <td>Actors_from_California</td>\n",
       "      <td>0.002305</td>\n",
       "    </tr>\n",
       "    <tr>\n",
       "      <th>19</th>\n",
       "      <td>American_voice_actors</td>\n",
       "      <td>0.002293</td>\n",
       "    </tr>\n",
       "    <tr>\n",
       "      <th>20</th>\n",
       "      <td>American_people_of_Irish_descent</td>\n",
       "      <td>0.002168</td>\n",
       "    </tr>\n",
       "  </tbody>\n",
       "</table>\n",
       "</div>"
      ],
      "text/plain": [
       "                                             Category  PageRank\n",
       "1                                       Living_people  0.013163\n",
       "2                              English-language_films  0.005639\n",
       "3                                American_film_actors  0.005339\n",
       "4                          American_television_actors  0.004582\n",
       "5                                      American_films  0.004421\n",
       "6                           Harvard_University_alumni  0.004326\n",
       "7                               Year_of_birth_missing  0.003668\n",
       "8                                 English_footballers  0.003194\n",
       "9                               Year_of_death_missing  0.003182\n",
       "10                   Association_football_midfielders  0.003097\n",
       "11  Members_of_the_United_Kingdom_Parliament_for_E...  0.002874\n",
       "12                              American_stage_actors  0.002735\n",
       "13                        The_Football_League_players  0.002714\n",
       "14                             Premier_League_players  0.002680\n",
       "15                      Association_football_forwards  0.002642\n",
       "16                              Black-and-white_films  0.002588\n",
       "17             Place_of_birth_missing_(living_people)  0.002348\n",
       "18                             Actors_from_California  0.002305\n",
       "19                              American_voice_actors  0.002293\n",
       "20                   American_people_of_Irish_descent  0.002168"
      ]
     },
     "execution_count": 21,
     "metadata": {},
     "output_type": "execute_result"
    }
   ],
   "source": [
    "head"
   ]
  },
  {
   "cell_type": "markdown",
   "metadata": {},
   "source": [
    "Eventually, we plot such top 20 categories and their pageranks in the form of a histogram"
   ]
  },
  {
   "cell_type": "code",
   "execution_count": 22,
   "metadata": {},
   "outputs": [
    {
     "data": {
      "image/png": "[encoded data removed]",
      "text/plain": [
       "<Figure size 1152x648 with 1 Axes>"
      ]
     },
     "metadata": {
      "needs_background": "light"
     },
     "output_type": "display_data"
    }
   ],
   "source": [
    "ft.plot_pagerank(head)"
   ]
  }
 ],
 "metadata": {
  "kernelspec": {
   "display_name": "Python 3",
   "language": "python",
   "name": "python3"
  },
  "language_info": {
   "codemirror_mode": {
    "name": "ipython",
    "version": 3
   },
   "file_extension": ".py",
   "mimetype": "text/x-python",
   "name": "python",
   "nbconvert_exporter": "python",
   "pygments_lexer": "ipython3",
   "version": "3.8.3"
  }
 },
 "nbformat": 4,
 "nbformat_minor": 4
}
