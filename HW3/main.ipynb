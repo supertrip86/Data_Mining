{
 "cells": [
  {
   "cell_type": "code",
   "execution_count": 1,
   "metadata": {},
   "outputs": [
    {
     "name": "stderr",
     "output_type": "stream",
     "text": [
      "[nltk_data] Downloading package stopwords to\n",
      "[nltk_data]     C:\\Users\\giogi\\AppData\\Roaming\\nltk_data...\n",
      "[nltk_data]   Package stopwords is already up-to-date!\n"
     ]
    },
    {
     "data": {
      "text/plain": [
       "True"
      ]
     },
     "execution_count": 1,
     "metadata": {},
     "output_type": "execute_result"
    }
   ],
   "source": [
    "import pandas as pd\n",
    "import requests\n",
    "import csv \n",
    "import re\n",
    "import json\n",
    "import nltk\n",
    "import re\n",
    "import heapq\n",
    "import math\n",
    "import string\n",
    "import random\n",
    "import time\n",
    "import numpy as np\n",
    "from scipy.optimize import curve_fit\n",
    "from collections import defaultdict\n",
    "from collections import Counter\n",
    "from pathlib import Path\n",
    "from bs4 import BeautifulSoup\n",
    "from langdetect import detect\n",
    "from nltk.corpus import stopwords\n",
    "from nltk.tokenize import word_tokenize\n",
    "from nltk.stem import PorterStemmer \n",
    "from nltk.tokenize import RegexpTokenizer\n",
    "import matplotlib.pyplot as plt\n",
    "\n",
    "nltk.download('stopwords')"
   ]
  },
  {
   "cell_type": "markdown",
   "metadata": {},
   "source": [
    "# 1. Data collection"
   ]
  },
  {
   "cell_type": "markdown",
   "metadata": {},
   "source": [
    "### We first retrieve as many URLs as we can from GoodReads.com\n",
    "\n",
    "Let the web scraping part of this assignmnent begin! We are interested in collecting data on as many books as we can from the website \"GoodReads.com\". To start, we are going to iterate over the first 300 pages in its online catalogue (every page in the catalogue contains URLs to exactly 100 books), and then store all of these links in a local text file. This file will end up with containing 30.000 links to webpages.\n"
   ]
  },
  {
   "cell_type": "code",
   "execution_count": null,
   "metadata": {},
   "outputs": [],
   "source": [
    "f = open(\"homework.txt\", \"w\")\n",
    "\n",
    "for i in range(1,301):\n",
    "    page = requests.get(\"https://www.goodreads.com/list/show/1.Best_Books_Ever?page=\" + str(i))\n",
    "    soup = BeautifulSoup(page.content, features=\"lxml\")\n",
    "    links = soup.find_all('a', itemprop='url', class_='bookTitle')\n",
    "    for link in links:\n",
    "        fullLink = link.get('href')\n",
    "        f.write('https://www.goodreads.com' + fullLink + '\\n')\n",
    "f.close()"
   ]
  },
  {
   "cell_type": "markdown",
   "metadata": {},
   "source": [
    "### With our list of URLs, it is now possible to download all the relevant information for each book\n",
    "\n",
    "By leveraging the list of URLs contained in \"homework.txt\", we can now send a HTTP request to each related webpage and download its content. Remember, every URL in our list represents a link to a webpage containing information about a specific book.\n",
    "The content for each book is saved inside its HTML file and folder (the number of iteration \"i\" is going to identify folders and books).\n"
   ]
  },
  {
   "cell_type": "code",
   "execution_count": null,
   "metadata": {},
   "outputs": [],
   "source": [
    "path = 'D:/Storage/' # To be modified with target local directory\n",
    "\n",
    "f = open(\"homework.txt\", \"r\")\n",
    "ff = f.readlines()\n",
    "\n",
    "for i in range(30000, len(ff)+1):\n",
    "    folderName = \"folder-\" + str(i) + \"/\"\n",
    "    fileName = \"article_\" + str(i) + \".html\"\n",
    "    \n",
    "    url = ff[i-1]\n",
    "    \n",
    "    Path(path + folderName).mkdir(parents=True, exist_ok=True)\n",
    "\n",
    "    page = requests.get(url)\n",
    "    code = str(page.text)\n",
    "\n",
    "    with open(path + folderName + fileName, \"w\", encoding=\"utf-8\") as z:\n",
    "        z.write(code)\n",
    "\n",
    "    z.close()\n",
    "f.close()"
   ]
  },
  {
   "cell_type": "markdown",
   "metadata": {},
   "source": [
    "### Let's collect all the relevant information contained in our HTML files\n",
    "\n",
    "Now we want to collect specific information from each webpage we downloaded, to be stored in a separate file next to its related HTML. According to the howework's indications, we first need to determine whether a book is in English or not by looking at its Plot, and only work with the ones identified as English-language texts by our code.\n",
    "For each book, we are interested in storing the following information in a \"tsv\" file:\n",
    "\n",
    "- Book Title\n",
    "- Book Series\n",
    "- Book Authors\n",
    "- Rating Value\n",
    "- Rating Count\n",
    "- Review Count\n",
    "- Plot\n",
    "- Number of Pages\n",
    "- Publishing Date\n",
    "- Characters\n",
    "- Setting\n",
    "- URL to the book's webpage"
   ]
  },
  {
   "cell_type": "code",
   "execution_count": null,
   "metadata": {},
   "outputs": [],
   "source": [
    "personalPath = 'D:/Storage/folder-'  # To be modified with target local directory\n",
    "\n",
    "data = ['bookTitle', 'bookSeries', 'bookAuthors', 'ratingValue', \"ratingCount\",\\\n",
    "        \"reviewCount\", \"plot\", \"numberOfPages\", \"publishingDate\", \"characters\", \"setting\", \"url\"]\n",
    "\n",
    "for i in range(18001, 30001):\n",
    "    with open(personalPath + str(i) + \"/article_\" + str(i) + \".html\", 'rb') as html: \n",
    "        soup = BeautifulSoup(html,\"html.parser\")\n",
    "\n",
    "    try:\n",
    "        plot = soup.find('div',id='description').text.strip()\n",
    "        if detect(plot)=='en':\n",
    "            lista=[]\n",
    "\n",
    "            #title\n",
    "            try:\n",
    "                lista.append(soup.find('h1').text.strip())\n",
    "            except:\n",
    "                lista.append('')\n",
    "\n",
    "                #bookseries\n",
    "            try:\n",
    "                lista.append(soup.find('h2',id='bookSeries').text.strip())\n",
    "            except:\n",
    "                lista.append('')\n",
    "\n",
    "                #author name\n",
    "            try:\n",
    "                lista.append(soup.find('a',class_='authorName').text.strip())\n",
    "            except:\n",
    "                lista.append('')\n",
    "\n",
    "                #rating value\n",
    "            try:\n",
    "                lista.append(soup.find('span', itemprop='ratingValue').text.strip())\n",
    "            except:\n",
    "                lista.append('')\n",
    "\n",
    "                #ratingCount\n",
    "            try:\n",
    "                lista.append(soup.find_all('a',class_='gr-hyperlink',href='#other_reviews')[0]\\\n",
    "                             .text.strip().replace('\\r', '').replace('\\n', '').split()[0])\n",
    "            except:\n",
    "                lista.append('')\n",
    "\n",
    "                #reviewCount\n",
    "            try:\n",
    "                lista.append(soup.find_all('a',class_='gr-hyperlink',href='#other_reviews')[1]\\\n",
    "                             .text.strip().replace('\\r', '').replace('\\n', '').split()[0])\n",
    "            except:\n",
    "                lista.append('')\n",
    "\n",
    "                #plot\n",
    "            try:\n",
    "                if plot[-7:] == '...more':\n",
    "                    lista.append(soup.find('div',id='description').contents[3].text)\n",
    "                else:\n",
    "                    lista.append(plot)\n",
    "            except:\n",
    "                lista.append('')\n",
    "\n",
    "                #number of pages\n",
    "            try:\n",
    "                lista.append(soup.find('span', itemprop='numberOfPages').text.strip().split()[0])\n",
    "            except:\n",
    "                lista.append('')\n",
    "\n",
    "                #Publishing Date\n",
    "            try:\n",
    "                a=soup.find_all('div', class_='row')[1].text\n",
    "                match_obj = re.split('Published', re.split('by', a)[0])[1]\n",
    "                lista.append(match_obj.strip())\n",
    "            except:\n",
    "                lista.append('')\n",
    "\n",
    "                #characters\n",
    "            try:\n",
    "                l1=[]\n",
    "                for d in soup.find_all('a',href=re.compile(r'/characters/*')):\n",
    "                    l1.append(d.text)\n",
    "                    s1=\",\".join(l1)\n",
    "                lista.append(s1)\n",
    "            except:\n",
    "                lista.append('')\n",
    "\n",
    "                #setting\n",
    "            try:\n",
    "                l2=[]\n",
    "                for e in soup.find_all('a',href=re.compile(r'/places/*')):\n",
    "                    l2.append(e.text)\n",
    "                    s2=\",\".join(l2)\n",
    "                lista.append(s2)\n",
    "            except:\n",
    "                lista.append('')\n",
    "\n",
    "                #URL\n",
    "            lista.append(soup.find('link')['href'].strip())\n",
    "\n",
    "            path = personalPath + str(i) + '/article_' + str(i)+ '.tsv'\n",
    "\n",
    "            with open(path, 'w', newline='',encoding=\"utf-8\") as f_output:\n",
    "                tsv_output = csv.writer(f_output, delimiter='\\t')\n",
    "                tsv_output.writerow(data)\n",
    "                tsv_output.writerow(lista)\n",
    "                f_output.close()\n",
    "        \n",
    "        else:\n",
    "            print('This book is not in english: '+ str(i))\n",
    "            \n",
    "    except:\n",
    "        print('Missing plot for book: '+ str(i))"
   ]
  },
  {
   "cell_type": "markdown",
   "metadata": {},
   "source": [
    "### We are ready to create a main database\n",
    "\n",
    "At this point, we are ready to create a main database containing all the information for each book, by using the \"tsv\" files created in the previous jupyter cell.\n",
    "The resulting file is going to be named \"index_books.tsv\"\n"
   ]
  },
  {
   "cell_type": "code",
   "execution_count": null,
   "metadata": {},
   "outputs": [],
   "source": [
    "personalPath = 'D:/Storage/folder-'  # To be modified with target local directory\n",
    "\n",
    "i = 1\n",
    "index = 1\n",
    "\n",
    "new_file = open('index_books.tsv', 'w')\n",
    "\n",
    "while i <= 30000:\n",
    "    try:\n",
    "        art_f = open(personalPath + str(i) + \"/article_\" + str(i) + \".tsv\", 'r')\n",
    "        art = art_f.readlines()[1]\n",
    "        new_file.write(str(index) + \"\\t\" + art)\n",
    "        art_f.close()\n",
    "        i += 1\n",
    "        index += 1\n",
    "    except:\n",
    "        i += 1\n",
    "\n",
    "new_file.close()"
   ]
  },
  {
   "cell_type": "markdown",
   "metadata": {},
   "source": [
    "# 2. Search Engine"
   ]
  },
  {
   "cell_type": "markdown",
   "metadata": {},
   "source": [
    "### To query our database, we need to create some auxiliary files\n",
    "\n",
    "As per our homework's requirements, it is time to create some auxiliary files:\n",
    "\n",
    "- A python dictionary, called \"vocabulary\", that maps every word appearing in every Plot of each book to a unique \"ID\"\n",
    "- A \"json\" file, called \"dictionary\", that contains, for each of the IDs contained in \"vocabulary\", a list of all the books where that term appears at least once in the Plot.\n",
    "\n",
    "Note that we are making use of the RegexpTokenizer and the PorterStemmer methods from the **ntlk** library to stem and tokenize each word in the Plots."
   ]
  },
  {
   "cell_type": "code",
   "execution_count": null,
   "metadata": {},
   "outputs": [],
   "source": [
    "nodigit = lambda wordslist : [word for word in wordslist if word.isalpha()]\n",
    "\n",
    "f = open(\"index_books.tsv\", 'r')\n",
    "books = f.readlines()\n",
    "\n",
    "new_file = open('vocabulary.tsv', 'w')\n",
    "\n",
    "ps = PorterStemmer()\n",
    "term_id = 1\n",
    "document_id = 1\n",
    "\n",
    "vocabulary = dict()\n",
    "diz = defaultdict(set)\n",
    "\n",
    "for book in books:\n",
    "    tokenizer = RegexpTokenizer(r\"[a-zA-Z]+\") \n",
    "    text_tokens = nodigit(tokenizer.tokenize(book.split('\\t')[6]))\n",
    "    tokens_without_sw = {word for word in text_tokens if not word in stopwords.words()}\n",
    "    for word in tokens_without_sw:\n",
    "        w = ps.stem(word.lower())\n",
    "        if w not in vocabulary:\n",
    "            vocabulary[w] = term_id\n",
    "            diz[term_id].add(document_id)\n",
    "            new_file.write(w + \"\\t\" + str(term_id) + '\\n')\n",
    "            term_id += 1\n",
    "        else:\n",
    "            diz[vocabulary[w]].add(document_id)\n",
    "    print('Finished document ' + str(document_id))\n",
    "    document_id += 1\n",
    "    \n",
    "new_file.close()\n",
    "f.close()\n",
    "\n",
    "with open(\"dictionary.json\", \"w\") as outfile: \n",
    "    json.dump(dict(zip(diz.keys(), map(list, diz.values()))), outfile, indent = 4)"
   ]
  },
  {
   "cell_type": "markdown",
   "metadata": {},
   "source": [
    "### All is set to define and use our query!\n",
    "\n",
    "We can now implement our query, that is going to retrieve, out of the terms searched by the User, a list of Books that have in their Plots ALL of the given keywords."
   ]
  },
  {
   "cell_type": "code",
   "execution_count": 8,
   "metadata": {},
   "outputs": [],
   "source": [
    "ds = pd.read_csv('index_books.tsv', header=None, sep='\\t', usecols=[0,1,7,12])\n",
    "ds.rename(columns={0:'index', 1:'bookTitle', 7:'plot', 12:'url'}, inplace=True)\n",
    "\n",
    "voc = dict()\n",
    "\n",
    "with open('vocabulary.tsv') as f:\n",
    "    for col1, col2 in csv.reader(f, delimiter='\\t'):\n",
    "        voc[col1] = col2\n",
    "        \n",
    "with open('dictionary.json') as f:\n",
    "    dt = json.load(f) # dictionary\n",
    "\n",
    "\n",
    "def query(q):\n",
    "    ps = PorterStemmer()\n",
    "    q = q.strip().split() # input from user\n",
    "\n",
    "    q = [ps.stem(w).lower() for w in q]\n",
    "\n",
    "    # elaborate query\n",
    "    \n",
    "    # take term_id(s)\n",
    "    term = list()\n",
    "    for w in q:\n",
    "        try:\n",
    "            term.append(voc[w])\n",
    "        except:\n",
    "            pass\n",
    "    # matching documents\n",
    "    if len(term):\n",
    "        doc = set(dt[term[0]])\n",
    "        for i in range(1, len(term)):\n",
    "            doc = doc.intersection(dt[term[i]])\n",
    "        # take row from books\n",
    "        return ds[ds['index'].isin(list(doc))][['index', 'bookTitle', 'plot', 'url']].head()\n",
    "    else:\n",
    "        return \"There aren't documents for each word of this query\""
   ]
  },
  {
   "cell_type": "code",
   "execution_count": 20,
   "metadata": {},
   "outputs": [
    {
     "data": {
      "text/html": [
       "<div>\n",
       "<style scoped>\n",
       "    .dataframe tbody tr th:only-of-type {\n",
       "        vertical-align: middle;\n",
       "    }\n",
       "\n",
       "    .dataframe tbody tr th {\n",
       "        vertical-align: top;\n",
       "    }\n",
       "\n",
       "    .dataframe thead th {\n",
       "        text-align: right;\n",
       "    }\n",
       "</style>\n",
       "<table border=\"1\" class=\"dataframe\">\n",
       "  <thead>\n",
       "    <tr style=\"text-align: right;\">\n",
       "      <th></th>\n",
       "      <th>index</th>\n",
       "      <th>bookTitle</th>\n",
       "      <th>plot</th>\n",
       "      <th>url</th>\n",
       "    </tr>\n",
       "  </thead>\n",
       "  <tbody>\n",
       "    <tr>\n",
       "      <th>299</th>\n",
       "      <td>312</td>\n",
       "      <td>The Way of Kings</td>\n",
       "      <td>From #1 New York Times bestselling author Bran...</td>\n",
       "      <td>https://www.goodreads.com/book/show/7235533-th...</td>\n",
       "    </tr>\n",
       "    <tr>\n",
       "      <th>1512</th>\n",
       "      <td>1683</td>\n",
       "      <td>The Hour I First Believed</td>\n",
       "      <td>Wally Lamb's two previous novels, She's Come U...</td>\n",
       "      <td>https://www.goodreads.com/book/show/3086160-th...</td>\n",
       "    </tr>\n",
       "    <tr>\n",
       "      <th>3160</th>\n",
       "      <td>3551</td>\n",
       "      <td>Halo: The Fall of Reach</td>\n",
       "      <td>As the bloody Human-Covenant War rages on Halo...</td>\n",
       "      <td>https://www.goodreads.com/book/show/60229.Halo</td>\n",
       "    </tr>\n",
       "    <tr>\n",
       "      <th>3363</th>\n",
       "      <td>3782</td>\n",
       "      <td>Jessica</td>\n",
       "      <td>Jessica is based on the inspiring true story o...</td>\n",
       "      <td>https://www.goodreads.com/book/show/2339.Jessica</td>\n",
       "    </tr>\n",
       "    <tr>\n",
       "      <th>3762</th>\n",
       "      <td>4263</td>\n",
       "      <td>With the Old Breed: At Peleliu and Okinawa</td>\n",
       "      <td>In his own book, Wartime, Paul Fussell called ...</td>\n",
       "      <td>https://www.goodreads.com/book/show/771332.Wit...</td>\n",
       "    </tr>\n",
       "  </tbody>\n",
       "</table>\n",
       "</div>"
      ],
      "text/plain": [
       "      index                                   bookTitle  \\\n",
       "299     312                            The Way of Kings   \n",
       "1512   1683                   The Hour I First Believed   \n",
       "3160   3551                     Halo: The Fall of Reach   \n",
       "3363   3782                                     Jessica   \n",
       "3762   4263  With the Old Breed: At Peleliu and Okinawa   \n",
       "\n",
       "                                                   plot  \\\n",
       "299   From #1 New York Times bestselling author Bran...   \n",
       "1512  Wally Lamb's two previous novels, She's Come U...   \n",
       "3160  As the bloody Human-Covenant War rages on Halo...   \n",
       "3363  Jessica is based on the inspiring true story o...   \n",
       "3762  In his own book, Wartime, Paul Fussell called ...   \n",
       "\n",
       "                                                    url  \n",
       "299   https://www.goodreads.com/book/show/7235533-th...  \n",
       "1512  https://www.goodreads.com/book/show/3086160-th...  \n",
       "3160     https://www.goodreads.com/book/show/60229.Halo  \n",
       "3363   https://www.goodreads.com/book/show/2339.Jessica  \n",
       "3762  https://www.goodreads.com/book/show/771332.Wit...  "
      ]
     },
     "execution_count": 20,
     "metadata": {},
     "output_type": "execute_result"
    }
   ],
   "source": [
    "query('war fight struggle')"
   ]
  },
  {
   "cell_type": "markdown",
   "metadata": {},
   "source": [
    "### What we achieved so far is a Conjunctive Query. But we want more...\n",
    "\n",
    "It is possible to improve the Search Engine implemented above by including a similarity score to the returned books. In other words, we want the books in our result to be sorted on the basis of their similarity to the given query.\n",
    "\n",
    "We begin by creating two new json files: \n",
    "\n",
    "- \"term_idf\": in this file, an **idf** score is stored for every word in our vocabulary.\n",
    "- \"inverted_index\": in here, we assign to every word in our vocabulary a list containing as many tuples as the number of book Plots where that word is found. Each tuple contains the book ID and the relative **tfIdf** score for the current word in relation with that book ID."
   ]
  },
  {
   "cell_type": "code",
   "execution_count": null,
   "metadata": {
    "scrolled": true
   },
   "outputs": [
    {
     "name": "stdout",
     "output_type": "stream",
     "text": [
      "emmd 54004\n"
     ]
    }
   ],
   "source": [
    "nodigit = lambda wordslist : [word for word in wordslist if word.isalpha()]\n",
    "\n",
    "ds = dict()\n",
    "voc = dict()\n",
    "result = defaultdict(list)\n",
    "inv_ind = defaultdict(list)\n",
    "term_idf = defaultdict(float)\n",
    "\n",
    "with open('vocabulary.tsv') as f:\n",
    "    for col1, col2 in csv.reader(f, delimiter='\\t'):\n",
    "        voc[col1] = col2\n",
    "\n",
    "with open('dictionary.json') as f:\n",
    "    dt = json.load(f) # dictionary\n",
    "    \n",
    "with open('index_books.tsv') as f:\n",
    "    for row in csv.reader(f, delimiter='\\t'):\n",
    "        if len(row) == 13:\n",
    "            ds[row[0]] = row[7]\n",
    "\n",
    "for doc_id in ds:\n",
    "    \n",
    "    ps = PorterStemmer()\n",
    "    tokenizer = RegexpTokenizer(r\"[a-zA-Z]+\") \n",
    "    text_tokens = nodigit(tokenizer.tokenize(ds[doc_id]))\n",
    "    tokens_without_sw = [ps.stem(w.lower()) for w in text_tokens if not w in stopwords.words()]\n",
    "    \n",
    "    plotLength = len(tokens_without_sw)\n",
    "    count = Counter(tokens_without_sw)\n",
    "    \n",
    "    for word in count:\n",
    "        freq = count[word]\n",
    "        try:\n",
    "            term_id = str(voc[word])\n",
    "            idf = 1.0 + math.log( float(len(ds)) / len( dt[term_id] ) )\n",
    "            tf = freq / plotLength\n",
    "            tfIdf = tf * idf\n",
    "            \n",
    "            heapq.heappush(result[term_id], (tfIdf, doc_id))\n",
    "            term_idf[term_id] = idf\n",
    "\n",
    "        except:\n",
    "            pass\n",
    "\n",
    "for term, tup_list in result.items():\n",
    "    for tup in tup_list:\n",
    "        inv_ind[term].append( (int(tup[1]), tup[0]) )\n",
    "\n",
    "\n",
    "with open(\"inverted_index.json\", \"w\") as outfile: \n",
    "    json.dump(result, outfile, indent = 4)\n",
    "\n",
    "with open(\"term_idf.json\", \"w\") as outfile: \n",
    "    json.dump(term_idf, outfile, indent = 4)"
   ]
  },
  {
   "cell_type": "markdown",
   "metadata": {},
   "source": [
    "### ... And here is the improved query that uses the similarity score\n",
    "\n",
    "To return the similarity score, we need to retrieve the vector of all the tfIdf scores stored in our json file according to the search performed by the User, and the vector of tfIdf scores computed on the fly over the keywords of the given query.\n",
    "Our goal is to calculate the **cosine similarity** between these two vectors, and the result will consist in the similarity score for each returned book.\n",
    "\n",
    "$cosine\\:similarity = \\frac{A\\cdotp B}{||A|| \\times ||B||}$"
   ]
  },
  {
   "cell_type": "code",
   "execution_count": 3,
   "metadata": {},
   "outputs": [],
   "source": [
    "inv_ind = defaultdict(dict)\n",
    "dot = lambda x, y : sum(xi*yi for xi, yi in zip(x, y))\n",
    "square = lambda x : [v**2 for v in x]\n",
    "det = lambda x : math.sqrt(sum(square(x)))\n",
    "\n",
    "with open('term_idf.json') as f:\n",
    "    term_idf = json.load(f)\n",
    "\n",
    "with open('inverted_index2.json') as f:\n",
    "    inverted = json.load(f)\n",
    "    \n",
    "for term in inverted:\n",
    "    for t in inverted[term]:\n",
    "        inv_ind[term][t[0]] = t[1]\n",
    "        \n",
    "\n",
    "def similarity(q):\n",
    "    ps = PorterStemmer()\n",
    "    # execute query\n",
    "    err = \"There aren't documents for each word of this query\"\n",
    "    q_result = query(q)\n",
    "    if not isinstance(q_result, str):\n",
    "        q = q.strip().split() # input from user\n",
    "        q = [ps.stem(w).lower() for w in q]\n",
    "        # create a list of ifidf of terms\n",
    "        term_tfidf = list()\n",
    "        tf = 1/len(q)\n",
    "        for w in q:\n",
    "            term_tfidf += [term_idf[voc[w]]*tf]\n",
    "        # create a list of ifidf of document\n",
    "        doc_tfidf = defaultdict(list)\n",
    "        for d_id in q_result['index']:\n",
    "            for w in q:\n",
    "                doc_tfidf[d_id].append(inv_ind[voc[w]][d_id])\n",
    "        #compare value and calculate similarity\n",
    "        cos_sim = list()\n",
    "        det_q = det(term_tfidf)\n",
    "        for doc in q_result['index']:\n",
    "            prod = dot(doc_tfidf[doc], term_tfidf)\n",
    "            det_doc = det(doc_tfidf[doc])\n",
    "            cos_sim += [(prod / (det_q * det_doc))]\n",
    "        q_result['similarity'] = cos_sim\n",
    "        return q_result.sort_values(by=['similarity', 'index'], ascending=False)[['index','bookTitle', 'plot', 'url', 'similarity']].head()\n",
    "    else:\n",
    "        return err"
   ]
  },
  {
   "cell_type": "code",
   "execution_count": 38,
   "metadata": {},
   "outputs": [
    {
     "data": {
      "text/html": [
       "<div>\n",
       "<style scoped>\n",
       "    .dataframe tbody tr th:only-of-type {\n",
       "        vertical-align: middle;\n",
       "    }\n",
       "\n",
       "    .dataframe tbody tr th {\n",
       "        vertical-align: top;\n",
       "    }\n",
       "\n",
       "    .dataframe thead th {\n",
       "        text-align: right;\n",
       "    }\n",
       "</style>\n",
       "<table border=\"1\" class=\"dataframe\">\n",
       "  <thead>\n",
       "    <tr style=\"text-align: right;\">\n",
       "      <th></th>\n",
       "      <th>index</th>\n",
       "      <th>bookTitle</th>\n",
       "      <th>plot</th>\n",
       "      <th>url</th>\n",
       "      <th>similarity</th>\n",
       "    </tr>\n",
       "  </thead>\n",
       "  <tbody>\n",
       "    <tr>\n",
       "      <th>3382</th>\n",
       "      <td>3805</td>\n",
       "      <td>Dragon Wing</td>\n",
       "      <td>Ages ago, sorcerers of unmatched power sundere...</td>\n",
       "      <td>https://www.goodreads.com/book/show/28481.Drag...</td>\n",
       "      <td>1.000000</td>\n",
       "    </tr>\n",
       "    <tr>\n",
       "      <th>5086</th>\n",
       "      <td>5758</td>\n",
       "      <td>The Ship of the Dead</td>\n",
       "      <td>Magnus Chase, a once-homeless teen, is a resid...</td>\n",
       "      <td>https://www.goodreads.com/book/show/28006120-t...</td>\n",
       "      <td>0.946267</td>\n",
       "    </tr>\n",
       "    <tr>\n",
       "      <th>1127</th>\n",
       "      <td>1245</td>\n",
       "      <td>Archibald Finch and the Lost Witches (Archibal...</td>\n",
       "      <td>What happened 500 years ago was never supposed...</td>\n",
       "      <td>https://www.goodreads.com/book/show/41742807-a...</td>\n",
       "      <td>0.884333</td>\n",
       "    </tr>\n",
       "    <tr>\n",
       "      <th>5818</th>\n",
       "      <td>6594</td>\n",
       "      <td>Raising Dragons</td>\n",
       "      <td>A boy learns of his dragon past; a girl has kn...</td>\n",
       "      <td>https://www.goodreads.com/book/show/352270.Rai...</td>\n",
       "      <td>0.872564</td>\n",
       "    </tr>\n",
       "    <tr>\n",
       "      <th>1854</th>\n",
       "      <td>2053</td>\n",
       "      <td>His Majesty's Dragon</td>\n",
       "      <td>Aerial combat brings a thrilling new dimension...</td>\n",
       "      <td>https://www.goodreads.com/book/show/28876.His_...</td>\n",
       "      <td>0.841642</td>\n",
       "    </tr>\n",
       "  </tbody>\n",
       "</table>\n",
       "</div>"
      ],
      "text/plain": [
       "      index                                          bookTitle  \\\n",
       "3382   3805                                        Dragon Wing   \n",
       "5086   5758                               The Ship of the Dead   \n",
       "1127   1245  Archibald Finch and the Lost Witches (Archibal...   \n",
       "5818   6594                                    Raising Dragons   \n",
       "1854   2053                               His Majesty's Dragon   \n",
       "\n",
       "                                                   plot  \\\n",
       "3382  Ages ago, sorcerers of unmatched power sundere...   \n",
       "5086  Magnus Chase, a once-homeless teen, is a resid...   \n",
       "1127  What happened 500 years ago was never supposed...   \n",
       "5818  A boy learns of his dragon past; a girl has kn...   \n",
       "1854  Aerial combat brings a thrilling new dimension...   \n",
       "\n",
       "                                                    url  similarity  \n",
       "3382  https://www.goodreads.com/book/show/28481.Drag...    1.000000  \n",
       "5086  https://www.goodreads.com/book/show/28006120-t...    0.946267  \n",
       "1127  https://www.goodreads.com/book/show/41742807-a...    0.884333  \n",
       "5818  https://www.goodreads.com/book/show/352270.Rai...    0.872564  \n",
       "1854  https://www.goodreads.com/book/show/28876.His_...    0.841642  "
      ]
     },
     "execution_count": 38,
     "metadata": {},
     "output_type": "execute_result"
    }
   ],
   "source": [
    "similarity('fire dragon battle')"
   ]
  },
  {
   "cell_type": "markdown",
   "metadata": {},
   "source": [
    "# 3. Define a new score!"
   ]
  },
  {
   "cell_type": "markdown",
   "metadata": {},
   "source": [
    "### Why are we only using the Plot?\n",
    "\n",
    "We can now define a more complex score that takes into account not just the Plot, but all the available information in our database, that is:\n",
    "\n",
    "- Book Title\n",
    "- Book Series\n",
    "- Book Authors\n",
    "- Rating Value\n",
    "- Rating Count\n",
    "- Review Count\n",
    "- Number of Pages\n",
    "- Publishing Date\n",
    "- Characters\n",
    "- Setting\n",
    "- URL to the book's webpage\n",
    "\n",
    "Of course, it is necessary to first format our data (removal of lower/upper cases and unnecessary punctuation, parsing values as integers/floats, etc...).\n",
    "For example, we have:\n",
    " - **normDate(x)**: formats the 'publishingDate' by removing  1'**st**', 2'**nd**', 3'**rd**',4'**th**' from the related string.\n",
    " - **truncate(n)**: used to round up the numbers that are being retrieved from the data. This way, it gets possible to consider the \"human error\": by widening up slightly our search margins, we make sure that our query returns not just the exact result, but also some close matches, so to offer a good variety of choices to the user. "
   ]
  },
  {
   "cell_type": "code",
   "execution_count": 4,
   "metadata": {},
   "outputs": [],
   "source": [
    "def normDate(x):\n",
    "    r = list()\n",
    "    for e in x.fillna(''):\n",
    "        v = e.replace('th', ' ').replace('nd', ' ').replace('st', ' ').replace('rd', ' ')\\\n",
    "                       .translate(str.maketrans('', '', string.punctuation)).split()\n",
    "        if len(v) <= 3 or len(v) != 0:\n",
    "            r.append(v)\n",
    "    return r\n",
    "\n",
    "\n",
    "def truncate(n):\n",
    "    n = str(n).replace('',' ').split()\n",
    "    n.reverse()\n",
    "    for i in range(1, len(n)):\n",
    "        v = int(n[i])\n",
    "        if int(n[i-1]) >= 5:\n",
    "            n[i] = str(v+1)\n",
    "    n.reverse()\n",
    "    return int(n[0] + '0'*(len(n)-1))\n",
    "\n",
    "normString = lambda x : [i.translate(str.maketrans('', '', string.punctuation)).lower().split() if len(i) > 0 else None for i in x.fillna('')  ]\n",
    "normFloat = lambda x : [round(float(str(i).replace(',',''))) if i == i else 0 for i in x]\n",
    "normInt = lambda x : [int(truncate(i.replace(',',''))) if i == i else 0 for i in x]\n",
    "normPages = lambda x : [int(truncate(i.replace(',',''))) if i == i and i.isnumeric() else 0 for i in x]"
   ]
  },
  {
   "cell_type": "markdown",
   "metadata": {},
   "source": [
    "To inizialize our work, we create a DataFrame called **n_ds** from which we extract the requested information:"
   ]
  },
  {
   "cell_type": "code",
   "execution_count": 12,
   "metadata": {},
   "outputs": [],
   "source": [
    "ds = pd.read_csv('index_books.tsv', header=None, sep='\\t', error_bad_lines = False)\n",
    "ds.rename(columns={0:'index', 1:'bookTitle', 2:'bookSeries', 3:'bookAuthors', 4:'ratingValue', 5:'ratingCount', 6:'reviewCount', 7:'plot', 8:'numberOfPages', 9:'publishingDate', 10:'characters', 11:'setting', 12:'url'}, inplace=True)\n",
    "n_ds = pd.DataFrame(ds['index'])\n",
    "\n",
    "n_ds['bookTitle'] = normString(ds['bookTitle'])\n",
    "n_ds['bookSeries'] = normString(ds['bookSeries'])\n",
    "n_ds['bookAuthors'] = normString(ds['bookAuthors'])\n",
    "n_ds['ratingValue'] = normFloat(ds['ratingValue'])\n",
    "n_ds['ratingCount'] = normInt(ds['ratingCount'])\n",
    "n_ds['reviewCount'] = normInt(ds['reviewCount'])\n",
    "n_ds['plot'] = ds['plot']\n",
    "n_ds['numberOfPages'] = normPages(ds['numberOfPages'])\n",
    "n_ds['publishingDate'] = normDate(ds['publishingDate'])\n",
    "n_ds['characters'] = normString(ds['characters'])\n",
    "n_ds['setting'] = normString(ds['setting'])\n",
    "n_ds['url'] = ds['url']"
   ]
  },
  {
   "cell_type": "markdown",
   "metadata": {},
   "source": [
    "After receiving an input from a user, we can assign to each word and each number in the query an update score. Such score depends on a wide list of rules: let's look at all those rules in details:\n",
    "\n",
    "For each element $w_i$ in the query:\n",
    "  - if there is a match between the query-element and an element belonging to the ***'bookTitle'*** variable:            $score+= (1/len(t))$***2**       \n",
    "  (where ***'t'*** is the bookTitle that contains the matched element, and ***'2'*** is the 'weight' of the match)\n",
    "  \n",
    "  \n",
    "  - if there is a match between the query-element and an element belonging to ***'bookSeries'*** variable:            $score+= (1/len(s))$***1.5**       \n",
    "  (where ***'s'*** is the bookSerie that contains the matched element, and ***'1.5'*** is the 'weight' of the match)\n",
    " \n",
    " \n",
    "  - if there is a match between the query-element and an element belonging to ***'bookAuthors'*** variable:            $score+= (1/len(a))$***2**     \n",
    "  (where ***'a'*** is the bookAuthor that contains the matched element, and ***'2'*** is the 'weight' of the match)\n",
    "  \n",
    "  \n",
    "  - if there is a match between the query-element and an element belonging to ***'characters'*** variable:            $score+= (1/len(c))$***1.5**       \n",
    "  (where ***'c'*** represents the characters that contain the matched element, and ***'1.5'*** is the 'weight' of the match)\n",
    "  \n",
    "  \n",
    "  - if there is a match between the query-element and an element belonging to ***'setting'*** variable:            $score+= (1/len(st))$***2**       \n",
    "  (where ***'st'*** is the setting that contains the matched element, and ***'1'*** is the 'weight' of the match)\n",
    "  \n",
    "  \n",
    "  - if there is a match between the query-element and an element belonging to ***'publishingDate'*** variable:            $score+= (1/len(d))$***2**       \n",
    "  (where ***'d'*** is the publishing Date that contains the matched element, and ***'1'*** is the 'weight' of the match)\n",
    "  \n",
    "  \n",
    "  - if there is a match between the query-element and an element belonging to ***'ratingCount'*** variable:            $score+= $***0.5***       \n",
    "  (where ***'0.5'*** is the 'weight' of the match)\n",
    "  \n",
    "  \n",
    "  - if there is a match between the query-element and an element belonging to ***'numberOfPages'*** variable:            $score+= $***0.5***       \n",
    "  (where ***'0.5'*** is the 'weight' of the match)\n",
    "  \n",
    "  \n",
    "  - if there is a match between the query-element and an element belonging to ***'reviewCount'*** variable:            $score+= $***0.5***       \n",
    "  (where ***'0.5'*** is the 'weight' of the match)\n",
    "  \n",
    "  \n",
    "  - if there is a match between the query-element and an element belonging to ***'ratingValue'*** variable:            $score+= $***0.5***       \n",
    "  (where ***'0.5'*** is the 'weight' of the match)"
   ]
  },
  {
   "cell_type": "markdown",
   "metadata": {},
   "source": [
    "$score=\\sum_{i\\in index}\\sum_{q\\in query}2\\frac{1[q\\in bookTitle_i]}{\\left |bookTitle_i\\right |}+1.5\\frac{1[q\\in bookSeries_i]}{\\left |bookSeries_i\\right |}+2\\frac{1[q\\in bookAuthor_i]}{\\left |bookAuthor_i\\right |}+1.5\\frac{1[q\\in characters_i]}{\\left |characters_i\\right |}+1\\frac{1[q\\in setting_i]}{\\left |setting_i\\right |}+1\\frac{1[q\\in publishingDate_i]}{\\left |publishingDate_i\\right |}+\\frac{0.5[q\\in ratingCount_i]}{\\left |ratingCount_i\\right |}+\\frac{0.5[q\\in numberOfPages_i]}{\\left |numberOfPages_i\\right |}+\\frac{0.5[q\\in reviewCount_i]}{\\left |reviewCount_i\\right |}+\\frac{0.5[q\\in ratingValue_i]}{\\left |ratingValue_i\\right |} + 1cosine\\:similarity_{i,q}$"
   ]
  },
  {
   "cell_type": "code",
   "execution_count": 6,
   "metadata": {},
   "outputs": [],
   "source": [
    "def search(q):\n",
    "    # execute query\n",
    "    err = \"There aren't documents for each word of this query\"\n",
    "    qs = re.sub('\\d', '', q.translate(str.maketrans('', '', string.punctuation)).lower())\n",
    "    q_result = similarity(qs)\n",
    "    if not isinstance(q_result, str):\n",
    "        q = q.strip().split()\n",
    "        q = [w.lower() for w in q]\n",
    "        # power up of the score\n",
    "        doc_score = []\n",
    "        for doc_id in q_result['index']:\n",
    "            score = q_result[q_result['index'] == doc_id]['similarity'].to_list()[0]\n",
    "            # calculate score\n",
    "            for w in q:\n",
    "                t = n_ds[n_ds['index']==doc_id]['bookTitle'].to_list()[0]\n",
    "                s = n_ds[n_ds['index']==doc_id]['bookSeries'].to_list()[0]\n",
    "                a = n_ds[n_ds['index']==doc_id]['bookAuthors'].to_list()[0]\n",
    "                c = n_ds[n_ds['index']==doc_id]['characters'].to_list()[0]\n",
    "                st = n_ds[n_ds['index']==doc_id]['setting'].to_list()[0]\n",
    "                d = n_ds[n_ds['index']==doc_id]['publishingDate'].to_list()[0]\n",
    "                if t != None and w in t:\n",
    "                    score += (1/len(t))*2\n",
    "                if s != None and w in s:\n",
    "                    score += (1/len(s))*1.5\n",
    "                if a != None and w in a:\n",
    "                    score += (1/len(a))*2\n",
    "                if c != None and w in c:\n",
    "                    score += (1/len(c))*1.5\n",
    "                if st != None and w in st:\n",
    "                    score += (1/len(st))\n",
    "                if d != None and w in d:\n",
    "                    score += (1/len(d))\n",
    "                if w.isnumeric():\n",
    "                    if truncate(w) == n_ds[n_ds['index']==doc_id]['ratingCount'].to_list()[0]:\n",
    "                        score += 0.5\n",
    "                    if truncate(w) == n_ds[n_ds['index']==doc_id]['numberOfPages'].to_list()[0]:\n",
    "                        score += 0.5\n",
    "                    if truncate(w) == n_ds[n_ds['index']==doc_id]['reviewCount'].to_list()[0]:\n",
    "                        score += 0.5\n",
    "                    if round(float(w)) == n_ds[n_ds['index']==doc_id]['ratingValue'].to_list()[0]:\n",
    "                        score += 0.5\n",
    "            heapq.heappush(doc_score, (score, doc_id))\n",
    "        order_doc_id = [i[1] for i in doc_score]\n",
    "        order_score = [i[0] for i in doc_score]\n",
    "        r = pd.DataFrame(q_result[q_result['index']==order_doc_id[0]][['index', 'bookTitle', 'plot', 'url']])\n",
    "        for d_id in range(1, len(order_doc_id)):\n",
    "            r = r.append(q_result[q_result['index']==order_doc_id[d_id]][['index', 'bookTitle', 'plot', 'url']])\n",
    "        r['score'] = order_score\n",
    "        return r.sort_values(by=['score', 'index'], ascending=False)[['index', 'bookTitle', 'plot', 'url', 'score']].head()\n",
    "    else:\n",
    "        return err"
   ]
  },
  {
   "cell_type": "markdown",
   "metadata": {},
   "source": [
    "To test our research, let's try to find matches (and their respective score) with the query 'harry potter 700'"
   ]
  },
  {
   "cell_type": "code",
   "execution_count": 10,
   "metadata": {
    "scrolled": true
   },
   "outputs": [
    {
     "data": {
      "text/html": [
       "<div>\n",
       "<style scoped>\n",
       "    .dataframe tbody tr th:only-of-type {\n",
       "        vertical-align: middle;\n",
       "    }\n",
       "\n",
       "    .dataframe tbody tr th {\n",
       "        vertical-align: top;\n",
       "    }\n",
       "\n",
       "    .dataframe thead th {\n",
       "        text-align: right;\n",
       "    }\n",
       "</style>\n",
       "<table border=\"1\" class=\"dataframe\">\n",
       "  <thead>\n",
       "    <tr style=\"text-align: right;\">\n",
       "      <th></th>\n",
       "      <th>index</th>\n",
       "      <th>bookTitle</th>\n",
       "      <th>plot</th>\n",
       "      <th>url</th>\n",
       "      <th>score</th>\n",
       "    </tr>\n",
       "  </thead>\n",
       "  <tbody>\n",
       "    <tr>\n",
       "      <th>90</th>\n",
       "      <td>91</td>\n",
       "      <td>Harry Potter and the Goblet of Fire</td>\n",
       "      <td>Harry Potter is midway through his training as...</td>\n",
       "      <td>https://www.goodreads.com/book/show/6.Harry_Po...</td>\n",
       "      <td>3.051241</td>\n",
       "    </tr>\n",
       "    <tr>\n",
       "      <th>93</th>\n",
       "      <td>94</td>\n",
       "      <td>Harry Potter and the Half-Blood Prince</td>\n",
       "      <td>The war against Voldemort is not going well; e...</td>\n",
       "      <td>https://www.goodreads.com/book/show/1.Harry_Po...</td>\n",
       "      <td>3.043083</td>\n",
       "    </tr>\n",
       "    <tr>\n",
       "      <th>62</th>\n",
       "      <td>63</td>\n",
       "      <td>Harry Potter and the Deathly Hallows</td>\n",
       "      <td>Harry Potter is leaving Privet Drive for the l...</td>\n",
       "      <td>https://www.goodreads.com/book/show/136251.Har...</td>\n",
       "      <td>2.610158</td>\n",
       "    </tr>\n",
       "    <tr>\n",
       "      <th>79</th>\n",
       "      <td>80</td>\n",
       "      <td>Harry Potter and the Prisoner of Azkaban</td>\n",
       "      <td>For twelve long years, the dread fortress of A...</td>\n",
       "      <td>https://www.goodreads.com/book/show/5.Harry_Po...</td>\n",
       "      <td>2.571429</td>\n",
       "    </tr>\n",
       "    <tr>\n",
       "      <th>27</th>\n",
       "      <td>28</td>\n",
       "      <td>Harry Potter and the Sorcerer's Stone</td>\n",
       "      <td>Harry Potter's life is miserable. His parents ...</td>\n",
       "      <td>https://www.goodreads.com/book/show/3.Harry_Po...</td>\n",
       "      <td>2.460749</td>\n",
       "    </tr>\n",
       "  </tbody>\n",
       "</table>\n",
       "</div>"
      ],
      "text/plain": [
       "    index                                 bookTitle  \\\n",
       "90     91       Harry Potter and the Goblet of Fire   \n",
       "93     94    Harry Potter and the Half-Blood Prince   \n",
       "62     63      Harry Potter and the Deathly Hallows   \n",
       "79     80  Harry Potter and the Prisoner of Azkaban   \n",
       "27     28     Harry Potter and the Sorcerer's Stone   \n",
       "\n",
       "                                                 plot  \\\n",
       "90  Harry Potter is midway through his training as...   \n",
       "93  The war against Voldemort is not going well; e...   \n",
       "62  Harry Potter is leaving Privet Drive for the l...   \n",
       "79  For twelve long years, the dread fortress of A...   \n",
       "27  Harry Potter's life is miserable. His parents ...   \n",
       "\n",
       "                                                  url     score  \n",
       "90  https://www.goodreads.com/book/show/6.Harry_Po...  3.051241  \n",
       "93  https://www.goodreads.com/book/show/1.Harry_Po...  3.043083  \n",
       "62  https://www.goodreads.com/book/show/136251.Har...  2.610158  \n",
       "79  https://www.goodreads.com/book/show/5.Harry_Po...  2.571429  \n",
       "27  https://www.goodreads.com/book/show/3.Harry_Po...  2.460749  "
      ]
     },
     "execution_count": 10,
     "metadata": {},
     "output_type": "execute_result"
    }
   ],
   "source": [
    "search('harry potter 700')"
   ]
  },
  {
   "cell_type": "markdown",
   "metadata": {},
   "source": [
    "# 4. Make a nice visualization!"
   ]
  },
  {
   "cell_type": "markdown",
   "metadata": {},
   "source": [
    "Considering the first **10** BookSeries in order of appearance, we build a 2-d plot where the x-axis is the years since publication of the first book (starting from 0), and the y-axis is the cumulative series page count:"
   ]
  },
  {
   "cell_type": "code",
   "execution_count": 12,
   "metadata": {},
   "outputs": [],
   "source": [
    "# take 10 first series\n",
    "top_series = list()\n",
    "for series in normString(ds['bookSeries']):\n",
    "    if series != None:\n",
    "        if len(series)>0:\n",
    "            if not series[-1].isalpha():\n",
    "                i = series[-1].find('–')\n",
    "                j = series[-1].find('-')\n",
    "                if i < 0 and j < 0:\n",
    "                    if series[:-1] not in top_series:\n",
    "                        top_series.append(series[:-1])\n",
    "    if len(top_series) == 10:\n",
    "        break"
   ]
  },
  {
   "cell_type": "code",
   "execution_count": 13,
   "metadata": {},
   "outputs": [],
   "source": [
    "def cumulativeCount(x):\n",
    "    r = [x[0]]\n",
    "    for i in range(1, len(x)):\n",
    "        r.append(r[i-1] + x[i])\n",
    "    return r"
   ]
  },
  {
   "cell_type": "code",
   "execution_count": 14,
   "metadata": {},
   "outputs": [
    {
     "data": {
      "image/png": "[encoded data removed]",
      "text/plain": [
       "<Figure size 1584x1152 with 1 Axes>"
      ]
     },
     "metadata": {
      "needs_background": "light"
     },
     "output_type": "display_data"
    }
   ],
   "source": [
    "plt.figure(figsize=(22,16))\n",
    "plt.ylabel('cumulative number of pages', fontsize=20)\n",
    "plt.title('top 10 series', fontsize=30)\n",
    "for series in top_series:\n",
    "    s = search(' '.join(series))\n",
    "    v = []\n",
    "    for i in s['index']:\n",
    "        r = n_ds[n_ds['index'] == i]\n",
    "        v.append((int(r['publishingDate'].tolist()[-1][-1]), r['numberOfPages'].tolist()[-1]))\n",
    "    v = sorted(v, key=lambda x: x[0])\n",
    "    date = [t for t in range(len(v))]\n",
    "    page = [t[1] for t in v]\n",
    "    page = cumulativeCount(page)\n",
    "    plt.plot(date, page, label = ' '.join(series) + ' series')\n",
    "plt.legend()\n",
    "plt.show()"
   ]
  },
  {
   "cell_type": "markdown",
   "metadata": {},
   "source": [
    "# 5. Algorithmic Question"
   ]
  },
  {
   "cell_type": "markdown",
   "metadata": {},
   "source": [
    "### Question ***1***"
   ]
  },
  {
   "cell_type": "markdown",
   "metadata": {},
   "source": [
    "This is our recursive program: **subseq(**string**)** finds the maximum length of a subsequence of characters that is in alfabetical order"
   ]
  },
  {
   "cell_type": "code",
   "execution_count": 2,
   "metadata": {},
   "outputs": [],
   "source": [
    "def inorder(s):\n",
    "    t = True\n",
    "    for i in range(1, len(s)):\n",
    "        if ord(s[i-1]) >= ord(s[i]):\n",
    "            t = False\n",
    "    return t\n",
    "\n",
    "\n",
    "def subseq_rec(string, s, i, l):\n",
    "    if i == len(string):\n",
    "        return l\n",
    "    l.append(s+string[i])\n",
    "    subseq_rec(string, s+string[i], i+1, l)\n",
    "    subseq_rec(string, s, i+1, l)\n",
    "\n",
    "def subseq(string):\n",
    "    string = string.upper()\n",
    "    l = []\n",
    "    subseq_rec(string, '', 0, l)\n",
    "    c = 0\n",
    "    for p in l:\n",
    "        if inorder(p):\n",
    "            c = max(c, len(p))\n",
    "    return c"
   ]
  },
  {
   "cell_type": "markdown",
   "metadata": {},
   "source": [
    "To test our algorithm, let's try with the string \"CADFECEILGJHABNOFPS\"; we can observe that the longest subsequence of characters in alfabetical order is made of **9** characters (it could be 'ADEILNOPS' (\"C***AD***F***E***CE***IL***GJHAB***NO***F***PS***\"), or 'ACEILNOPS' (\"C***A***DFE***CEIL***GJHAB***NO***F***PS***\")......)"
   ]
  },
  {
   "cell_type": "code",
   "execution_count": 37,
   "metadata": {},
   "outputs": [
    {
     "data": {
      "text/plain": [
       "9"
      ]
     },
     "execution_count": 37,
     "metadata": {},
     "output_type": "execute_result"
    }
   ],
   "source": [
    "subseq(\"CADFECEILGJHABNOFPS\")"
   ]
  },
  {
   "cell_type": "markdown",
   "metadata": {},
   "source": [
    "### Question ***2***"
   ]
  },
  {
   "cell_type": "markdown",
   "metadata": {},
   "source": [
    "Let's show that the running time of the algorithm is exponential."
   ]
  },
  {
   "cell_type": "markdown",
   "metadata": {},
   "source": [
    "We first try it with a short word:"
   ]
  },
  {
   "cell_type": "code",
   "execution_count": 3,
   "metadata": {},
   "outputs": [
    {
     "name": "stdout",
     "output_type": "stream",
     "text": [
      "Wall time: 0 ns\n"
     ]
    },
    {
     "data": {
      "text/plain": [
       "4"
      ]
     },
     "execution_count": 3,
     "metadata": {},
     "output_type": "execute_result"
    }
   ],
   "source": [
    "%%time\n",
    "subseq(\"DGGTTYHE\")"
   ]
  },
  {
   "cell_type": "markdown",
   "metadata": {},
   "source": [
    "It just took ***998 µs*** to find to respond."
   ]
  },
  {
   "cell_type": "markdown",
   "metadata": {},
   "source": [
    "Now, let's try with a longer string:"
   ]
  },
  {
   "cell_type": "code",
   "execution_count": 57,
   "metadata": {},
   "outputs": [
    {
     "name": "stdout",
     "output_type": "stream",
     "text": [
      "Wall time: 62 ms\n"
     ]
    },
    {
     "data": {
      "text/plain": [
       "4"
      ]
     },
     "execution_count": 57,
     "metadata": {},
     "output_type": "execute_result"
    }
   ],
   "source": [
    "%%time\n",
    "subseq(\"DGGTTYGRFOEBOHE\")"
   ]
  },
  {
   "cell_type": "markdown",
   "metadata": {},
   "source": [
    ".................and longer:"
   ]
  },
  {
   "cell_type": "code",
   "execution_count": 58,
   "metadata": {},
   "outputs": [
    {
     "name": "stdout",
     "output_type": "stream",
     "text": [
      "Wall time: 2.17 s\n"
     ]
    },
    {
     "data": {
      "text/plain": [
       "7"
      ]
     },
     "execution_count": 58,
     "metadata": {},
     "output_type": "execute_result"
    }
   ],
   "source": [
    "%%time\n",
    "subseq(\"DGGTTIEOBVOEORUBOYHE\")"
   ]
  },
  {
   "cell_type": "markdown",
   "metadata": {},
   "source": [
    "..............................and longer:"
   ]
  },
  {
   "cell_type": "code",
   "execution_count": 59,
   "metadata": {},
   "outputs": [
    {
     "name": "stdout",
     "output_type": "stream",
     "text": [
      "Wall time: 2min 51s\n"
     ]
    },
    {
     "data": {
      "text/plain": [
       "8"
      ]
     },
     "execution_count": 59,
     "metadata": {},
     "output_type": "execute_result"
    }
   ],
   "source": [
    "%%time\n",
    "subseq(\"DTVGTTIERBVOEOBWFIKRUBOYHE\")"
   ]
  },
  {
   "cell_type": "markdown",
   "metadata": {},
   "source": [
    "So, in our examples, as the word's length increases, even the running time increases as well:\n",
    " - if the word's lenght is 8, we obtain the output in ***998 µs***;\n",
    " - if the word's lenght is 15, we obtain the output in ***62 ms***;\n",
    " - if the word's lenght is 20, we obtain the output in ***2.17 s***;\n",
    " - if the word's lenght is 26, we obtain the output in ***2min 51s***;\n",
    " \n",
    "So all results are obtained reasonable (still exponential) time.\n",
    "\n",
    "But let's try to see if we can always obtain results in a reasonable time:"
   ]
  },
  {
   "cell_type": "code",
   "execution_count": 11,
   "metadata": {},
   "outputs": [],
   "source": [
    "subseq(\"DTVGTTIERBVOOWEIFBWOWBFOWEFBWOSCBWONDPWEIKCCBOIEEOEOBWFIKRUBOYHE\")"
   ]
  },
  {
   "cell_type": "markdown",
   "metadata": {},
   "source": [
    "***Memory Error***!!! Our computer is not able to reach the solution."
   ]
  },
  {
   "cell_type": "markdown",
   "metadata": {},
   "source": [
    "It is probably a good idea to also visually compare the distribution of the runtime complexity of the algorithm when increasing the length of the string, one character at a time."
   ]
  },
  {
   "cell_type": "code",
   "execution_count": 5,
   "metadata": {},
   "outputs": [
    {
     "data": {
      "image/png": "[encoded data removed]",
      "text/plain": [
       "<Figure size 1152x576 with 1 Axes>"
      ]
     },
     "metadata": {
      "needs_background": "light"
     },
     "output_type": "display_data"
    }
   ],
   "source": [
    "n = 16\n",
    "x = [float(x) for x in range(n)]\n",
    "y = []\n",
    "s = 'DGGTTYHEOG'\n",
    "a = time.time()\n",
    "\n",
    "def exp_func(x, a, b, c):\n",
    "    return a*np.exp(-b*x)+c\n",
    "\n",
    "for k in range(n):\n",
    "    s += random.choices(string.ascii_uppercase)[0]\n",
    "    g = subseq(s)\n",
    "    b = time.time()\n",
    "    y.append(b-a)\n",
    "\n",
    "popt, pcov = curve_fit(exp_func, x, y, p0=(1, 1e-6, 1))\n",
    "xx = np.linspace(0,n)\n",
    "yy = exp_func(xx, *popt)\n",
    "\n",
    "plt.figure(figsize=(16,8))\n",
    "plt.xlabel('Number of characters in string', fontsize=20)\n",
    "plt.ylabel('Runtime', fontsize=20)\n",
    "plt.plot(x,y,'o', xx, yy)\n",
    "plt.show()"
   ]
  },
  {
   "cell_type": "markdown",
   "metadata": {},
   "source": [
    "From the above plot it looks clear how such distribution is quite well approximated by an exponential"
   ]
  },
  {
   "cell_type": "markdown",
   "metadata": {},
   "source": [
    "### Question ***3***"
   ]
  },
  {
   "cell_type": "markdown",
   "metadata": {},
   "source": [
    "Now we still want to find the maximum length of a subsequence of characters in alphabetical order, but this time we want to reach the target using a dynamic program."
   ]
  },
  {
   "cell_type": "code",
   "execution_count": 1,
   "metadata": {},
   "outputs": [],
   "source": [
    "def dynamic_subq(s):\n",
    "    a = 'ABCDEFGHIJKLMNOPQRSTUVWXYZ'\n",
    "    s = s.upper()\n",
    "    la = len(a)+1\n",
    "    ls = len(s)+1\n",
    "    # create matrix\n",
    "    m = [list() for _ in range(la)]\n",
    "    for i in range(la):\n",
    "        m[i] = [0 for _ in range(ls)]\n",
    "    # fill matrix\n",
    "    for i in range(1, la):\n",
    "        for j in range(1, ls):\n",
    "            if a[i-1] == s[j-1]:\n",
    "                m[i][j] = m[i-1][j-1]+1\n",
    "            else:\n",
    "                m[i][j] = max(m[i-1][j], m[i][j-1])\n",
    "    # return value in cell n+1, m+1\n",
    "    # where n is the number of char in alphabet\n",
    "    # and m is the lenght of the input string\n",
    "    return m[la-1][ls-1]"
   ]
  },
  {
   "cell_type": "code",
   "execution_count": 2,
   "metadata": {},
   "outputs": [
    {
     "data": {
      "text/plain": [
       "3"
      ]
     },
     "execution_count": 2,
     "metadata": {},
     "output_type": "execute_result"
    }
   ],
   "source": [
    "dynamic_subq('CIAO')"
   ]
  },
  {
   "cell_type": "markdown",
   "metadata": {},
   "source": [
    "### Question 4"
   ]
  },
  {
   "cell_type": "markdown",
   "metadata": {},
   "source": [
    "The running time of the dynamic algorithm is:\n",
    "$O(2(nm)+c) = O(nm)$ \n",
    "\n",
    "where ***n*** is the lenght of the alphabet, and ***m*** is the length of the input word.\n",
    "\n",
    "Because n=26 (so n is costant), the final running time depends only by m, that is:\n",
    "\n",
    "$O(m)$"
   ]
  },
  {
   "cell_type": "markdown",
   "metadata": {},
   "source": [
    "So if we try to test the dynamic program, we obtain:"
   ]
  },
  {
   "cell_type": "code",
   "execution_count": 14,
   "metadata": {},
   "outputs": [
    {
     "name": "stdout",
     "output_type": "stream",
     "text": [
      "Wall time: 0 ns\n"
     ]
    },
    {
     "data": {
      "text/plain": [
       "4"
      ]
     },
     "execution_count": 14,
     "metadata": {},
     "output_type": "execute_result"
    }
   ],
   "source": [
    "%%time\n",
    "dynamic_subq(\"DGGTTYHE\")"
   ]
  },
  {
   "cell_type": "code",
   "execution_count": 15,
   "metadata": {},
   "outputs": [
    {
     "name": "stdout",
     "output_type": "stream",
     "text": [
      "Wall time: 0 ns\n"
     ]
    },
    {
     "data": {
      "text/plain": [
       "4"
      ]
     },
     "execution_count": 15,
     "metadata": {},
     "output_type": "execute_result"
    }
   ],
   "source": [
    "%%time\n",
    "dynamic_subq(\"DGGTTYGRFOEBOHE\")"
   ]
  },
  {
   "cell_type": "code",
   "execution_count": 19,
   "metadata": {},
   "outputs": [
    {
     "name": "stdout",
     "output_type": "stream",
     "text": [
      "Wall time: 0 ns\n"
     ]
    },
    {
     "data": {
      "text/plain": [
       "7"
      ]
     },
     "execution_count": 19,
     "metadata": {},
     "output_type": "execute_result"
    }
   ],
   "source": [
    "%%time\n",
    "dynamic_subq(\"DGGTTIEOBVOEORUBOYHE\")"
   ]
  },
  {
   "cell_type": "code",
   "execution_count": 20,
   "metadata": {},
   "outputs": [
    {
     "name": "stdout",
     "output_type": "stream",
     "text": [
      "Wall time: 0 ns\n"
     ]
    },
    {
     "data": {
      "text/plain": [
       "8"
      ]
     },
     "execution_count": 20,
     "metadata": {},
     "output_type": "execute_result"
    }
   ],
   "source": [
    "%%time\n",
    "dynamic_subq(\"DTVGTTIERBVOEOBWFIKRUBOYHE\")"
   ]
  },
  {
   "cell_type": "code",
   "execution_count": 21,
   "metadata": {},
   "outputs": [
    {
     "name": "stdout",
     "output_type": "stream",
     "text": [
      "Wall time: 1 ms\n"
     ]
    },
    {
     "data": {
      "text/plain": [
       "10"
      ]
     },
     "execution_count": 21,
     "metadata": {},
     "output_type": "execute_result"
    }
   ],
   "source": [
    "%%time\n",
    "dynamic_subq(\"DTVGTTIERBVOOWEIFBWOWBFOWEFBWOSCBWONDPWEIKCCBOIEEOEOBWFIKRUBOYHE\")\n"
   ]
  },
  {
   "cell_type": "markdown",
   "metadata": {},
   "source": [
    " Word's lenght  | Recursive program | Dynamic Program | \n",
    "------------- |  ----------  | -----------| \n",
    "8| Time: ***998 µs*** | Time: ***0 ns*** | \n",
    "15| Time: ***86.3 ms*** | Time: ***0 ns***   |\n",
    "20| Time: ***2.4 s***  | Time: ***0 ns*** | \n",
    "26| Time: ***3min 24s***  | Time: ***0 ns***   |\n",
    "64| Time: Memory Error  | Time: ***1 ms*** | "
   ]
  },
  {
   "cell_type": "markdown",
   "metadata": {},
   "source": [
    "### BONUS:\n",
    "\n",
    "$X[i]=\\mathop{{max}\\vphantom{\\sim}}(1,\\mathop{{max}\\vphantom{\\sim}}\\limits_{\\displaystyle _{\\mathbf j=0,...,i-1}}(1+X[j]))$\n",
    "\n",
    "with \n",
    " - $X[i] =$ length of the longest subsequence in alphabetic order that ends in the element at index $i$\n",
    " - $S[i]=$ element $i$ of the sequence of letters\n",
    " - $S[j]<S[i]$\n",
    " "
   ]
  },
  {
   "cell_type": "markdown",
   "metadata": {},
   "source": [
    "### Proof:\n",
    "\n",
    "We define an array $X[0,...,k]$, where $X[i]$ is the length of the longest subsequence in alphabetic order that ends in the element at index $i$.\n",
    "\n",
    "We will compute this array gradually: first $X[0]$, then $X[1]$, $X[2]$, and so on. After this array is computed, the answer to the problem will be the maximum value in the array X.\n",
    "\n",
    "So let the current index be $i$: we want to compute the value $X[i]$. All the previous values $X[0],…,X[i−1]$ are known.\n",
    "\n",
    "It could happen that:\n",
    "\n",
    "\n",
    "- $X[i]=1 \\rightarrow $ subsequence consists of only the element $S[i]$\n",
    "- $X[i]>1 \\rightarrow $ There is another element $S[j]<S[i]$ (with $j=0,...,i-1$)  before the element $S[i]$; if we fix the index $j$, than the longest subsequence ending in the two elements $S[j]$ and $S[i]$ has the length $X[j]+1$.\n",
    " All of these values $X[j]$ are already known, so we can directly compute $X[i]$ with:\n",
    " \n",
    " $X[i]=\\mathop{{max}\\vphantom{\\sim}}\\limits_{\\displaystyle _{\\mathbf j=0,...,i-1}}(1+X[j])$\n",
    " \n",
    " with $S[j]<S[i]$\n",
    " \n",
    " \n",
    "Now, combininig these two cases, we get the final result for $X[i]$:\n",
    "\n",
    "$X[i]=\\mathop{{max}\\vphantom{\\sim}}(1,\\mathop{{max}\\vphantom{\\sim}}\\limits_{\\displaystyle _{\\mathbf j=0,...,i-1}}(1+X[j]))$\n",
    "\n",
    "with $S[j]<S[i]$"
   ]
  },
  {
   "cell_type": "code",
   "execution_count": null,
   "metadata": {},
   "outputs": [],
   "source": []
  }
 ],
 "metadata": {
  "kernelspec": {
   "display_name": "Python 3 (ipykernel)",
   "language": "python",
   "name": "python3"
  },
  "language_info": {
   "codemirror_mode": {
    "name": "ipython",
    "version": 3
   },
   "file_extension": ".py",
   "mimetype": "text/x-python",
   "name": "python",
   "nbconvert_exporter": "python",
   "pygments_lexer": "ipython3",
   "version": "3.9.7"
  }
 },
 "nbformat": 4,
 "nbformat_minor": 4
}
