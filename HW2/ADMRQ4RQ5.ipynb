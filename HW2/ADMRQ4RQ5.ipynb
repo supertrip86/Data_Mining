{
 "cells": [
  {
   "cell_type": "code",
   "execution_count": 1,
   "metadata": {},
   "outputs": [],
   "source": [
    "import pandas as pd"
   ]
  },
  {
   "cell_type": "code",
   "execution_count": 16,
   "metadata": {},
   "outputs": [
    {
     "name": "stdout",
     "output_type": "stream",
     "text": [
      "1000000\n",
      "1000000\n",
      "1000000\n",
      "1000000\n",
      "1000000\n",
      "1000000\n",
      "1000000\n",
      "1000000\n",
      "1000000\n",
      "1000000\n",
      "1000000\n",
      "1000000\n",
      "1000000\n",
      "1000000\n",
      "1000000\n",
      "1000000\n",
      "1000000\n",
      "1000000\n",
      "1000000\n",
      "1000000\n",
      "1000000\n",
      "1000000\n",
      "1000000\n",
      "1000000\n",
      "1000000\n",
      "1000000\n",
      "1000000\n",
      "1000000\n",
      "1000000\n",
      "1000000\n",
      "1000000\n",
      "1000000\n",
      "1000000\n",
      "1000000\n",
      "1000000\n",
      "1000000\n",
      "1000000\n",
      "1000000\n",
      "1000000\n",
      "1000000\n",
      "1000000\n",
      "1000000\n",
      "448764\n",
      "1000000\n",
      "1000000\n",
      "1000000\n",
      "1000000\n",
      "1000000\n",
      "1000000\n",
      "1000000\n",
      "1000000\n",
      "1000000\n",
      "1000000\n",
      "1000000\n",
      "1000000\n",
      "1000000\n",
      "1000000\n",
      "1000000\n",
      "1000000\n",
      "1000000\n",
      "1000000\n",
      "1000000\n",
      "1000000\n",
      "1000000\n",
      "1000000\n",
      "1000000\n",
      "1000000\n",
      "1000000\n",
      "1000000\n",
      "1000000\n",
      "1000000\n",
      "1000000\n",
      "1000000\n",
      "1000000\n",
      "1000000\n",
      "1000000\n",
      "1000000\n",
      "1000000\n",
      "1000000\n",
      "1000000\n",
      "1000000\n",
      "1000000\n",
      "1000000\n",
      "1000000\n",
      "1000000\n",
      "1000000\n",
      "1000000\n",
      "1000000\n",
      "1000000\n",
      "1000000\n",
      "1000000\n",
      "1000000\n",
      "1000000\n",
      "1000000\n",
      "1000000\n",
      "1000000\n",
      "1000000\n",
      "1000000\n",
      "1000000\n",
      "1000000\n",
      "1000000\n",
      "1000000\n",
      "1000000\n",
      "1000000\n",
      "1000000\n",
      "1000000\n",
      "1000000\n",
      "1000000\n",
      "1000000\n",
      "1000000\n",
      "501979\n"
     ]
    }
   ],
   "source": [
    "# We chose the chunk size to be 10**6 ( 1 million) because the orginal data was huge to load.\n",
    "chunksize = 10**6\n",
    "csv_files = ['2019-Oct.csv', '2019-Nov.csv']\n",
    "profit_per_brand = {}\n",
    "for csv_file in csv_files:\n",
    "    month = csv_file.replace('.csv', '')\n",
    "    profit_per_brand[month] = {}\n",
    "   \n",
    "    for df in pd.read_csv(csv_file, chunksize=chunksize):\n",
    "        #we printed the length of each chunk to check the progress of the loop \n",
    "        print(len(df))\n",
    "        filtered_df = df[df['event_type'] != 'purchase']\n",
    "       \n",
    "        profits = filtered_df.groupby('brand')['price'].sum()\n",
    "        \n",
    "        for brand, profit in profits.items():\n",
    "            if brand not in profit_per_brand[month]:\n",
    "                profit_per_brand[month][brand] = 0\n",
    "            profit_per_brand[month][brand] = profit_per_brand[month][brand] + profit\n",
    "            "
   ]
  },
  {
   "cell_type": "code",
   "execution_count": 36,
   "metadata": {
    "scrolled": true
   },
   "outputs": [],
   "source": [
    "profit_per_brand_df = pd.DataFrame(profit_per_brand)"
   ]
  },
  {
   "cell_type": "code",
   "execution_count": 40,
   "metadata": {},
   "outputs": [],
   "source": [
    "#We wanted to aggregate the profits at brands so we changed the column names to be more relevant to the problem. We also chose to replace the null values with zeros.\n",
    "profit_per_brand_df = profit_per_brand_df.fillna(0)\n",
    "profit_per_brand_df = profit_per_brand_df.reset_index().rename(columns = {'index': 'brand'})"
   ]
  },
  {
   "cell_type": "code",
   "execution_count": 41,
   "metadata": {},
   "outputs": [
    {
     "name": "stdout",
     "output_type": "stream",
     "text": [
      "             brand  2019-Oct   2019-Nov\n",
      "0           a-case  42709.21  193028.12\n",
      "1          a-derma   3911.75    6213.64\n",
      "2          a-elita   8120.70   15342.76\n",
      "3           a-mega  50477.36   64235.33\n",
      "4         aardwolf   3240.06   17085.04\n",
      "...            ...       ...        ...\n",
      "4297  pierrericaud      0.00     284.70\n",
      "4298       pjmasks      0.00      35.34\n",
      "4299     slezakrav      0.00     101.84\n",
      "4300       warrior      0.00     596.22\n",
      "4301       zmonday      0.00     729.32\n",
      "\n",
      "[4302 rows x 3 columns]\n"
     ]
    }
   ],
   "source": [
    "# How much does each brand earn per month? \n",
    "print(profit_per_brand_df)"
   ]
  },
  {
   "cell_type": "code",
   "execution_count": 42,
   "metadata": {},
   "outputs": [
    {
     "name": "stdout",
     "output_type": "stream",
     "text": [
      "{'brand': {2175: 'xiaomi'}, '2019-Oct': {2175: 608972407.180021}, '2019-Nov': {2175: 933775177.1700186}}\n"
     ]
    }
   ],
   "source": [
    "# Write a function that given the name of a brand in input returns, for each month, its profit.\n",
    "#Function is filtering out a specific brand for their profit for Oct & Nov\n",
    "def get_profit(brand_name):\n",
    "    return profit_per_brand_df[profit_per_brand_df['brand'] == brand_name].to_dict()\n",
    "\n",
    "profits = get_profit('xiaomi')\n",
    "print(profits)"
   ]
  },
  {
   "cell_type": "code",
   "execution_count": null,
   "metadata": {},
   "outputs": [],
   "source": [
    " #CAN BE DELETED\n",
    "# x * 100 / y... to avoid cases where y=0, we just make y = 0 + 0.00000000000001"
   ]
  },
  {
   "cell_type": "code",
   "execution_count": 47,
   "metadata": {},
   "outputs": [],
   "source": [
    "losses = ((profit_per_brand_df['2019-Nov'] - profit_per_brand_df['2019-Oct']) * 100 ) / (profit_per_brand_df['2019-Oct'] + 10e-20)"
   ]
  },
  {
   "cell_type": "code",
   "execution_count": 50,
   "metadata": {},
   "outputs": [],
   "source": [
    "profit_per_brand_df['losses'] = losses"
   ]
  },
  {
   "cell_type": "code",
   "execution_count": 52,
   "metadata": {},
   "outputs": [
    {
     "data": {
      "text/html": [
       "<div>\n",
       "<style scoped>\n",
       "    .dataframe tbody tr th:only-of-type {\n",
       "        vertical-align: middle;\n",
       "    }\n",
       "\n",
       "    .dataframe tbody tr th {\n",
       "        vertical-align: top;\n",
       "    }\n",
       "\n",
       "    .dataframe thead th {\n",
       "        text-align: right;\n",
       "    }\n",
       "</style>\n",
       "<table border=\"1\" class=\"dataframe\">\n",
       "  <thead>\n",
       "    <tr style=\"text-align: right;\">\n",
       "      <th></th>\n",
       "      <th>brand</th>\n",
       "      <th>2019-Oct</th>\n",
       "      <th>2019-Nov</th>\n",
       "      <th>losses</th>\n",
       "    </tr>\n",
       "  </thead>\n",
       "  <tbody>\n",
       "    <tr>\n",
       "      <th>1573</th>\n",
       "      <td>playway</td>\n",
       "      <td>2755.53</td>\n",
       "      <td>0.0</td>\n",
       "      <td>-100.0</td>\n",
       "    </tr>\n",
       "    <tr>\n",
       "      <th>1842</th>\n",
       "      <td>slumberjack</td>\n",
       "      <td>243.77</td>\n",
       "      <td>0.0</td>\n",
       "      <td>-100.0</td>\n",
       "    </tr>\n",
       "    <tr>\n",
       "      <th>2309</th>\n",
       "      <td>matebo</td>\n",
       "      <td>328.58</td>\n",
       "      <td>0.0</td>\n",
       "      <td>-100.0</td>\n",
       "    </tr>\n",
       "  </tbody>\n",
       "</table>\n",
       "</div>"
      ],
      "text/plain": [
       "            brand  2019-Oct  2019-Nov  losses\n",
       "1573      playway   2755.53       0.0  -100.0\n",
       "1842  slumberjack    243.77       0.0  -100.0\n",
       "2309       matebo    328.58       0.0  -100.0"
      ]
     },
     "execution_count": 52,
     "metadata": {},
     "output_type": "execute_result"
    }
   ],
   "source": [
    "#Using the function you just created, find the top 3 brands that have suffered the biggest losses in earnings between one month and the next, specifing bothe the loss percentage and the 2 months (e.g., brand_1 lost 20% between march and april).\n",
    "profit_per_brand_df.nsmallest(3, 'losses')"
   ]
  },
  {
   "cell_type": "code",
   "execution_count": null,
   "metadata": {},
   "outputs": [],
   "source": [
    "# Is the average price of products of different brands significantly different?"
   ]
  },
  {
   "cell_type": "code",
   "execution_count": 65,
   "metadata": {},
   "outputs": [
    {
     "name": "stdout",
     "output_type": "stream",
     "text": [
      "1000000\n",
      "1000000\n",
      "1000000\n",
      "1000000\n",
      "1000000\n",
      "1000000\n",
      "1000000\n",
      "1000000\n",
      "1000000\n",
      "1000000\n",
      "1000000\n",
      "1000000\n",
      "1000000\n",
      "1000000\n",
      "1000000\n",
      "1000000\n",
      "1000000\n",
      "1000000\n",
      "1000000\n",
      "1000000\n",
      "1000000\n",
      "1000000\n",
      "1000000\n",
      "1000000\n",
      "1000000\n",
      "1000000\n",
      "1000000\n",
      "1000000\n",
      "1000000\n",
      "1000000\n",
      "1000000\n",
      "1000000\n",
      "1000000\n",
      "1000000\n",
      "1000000\n",
      "1000000\n",
      "1000000\n",
      "1000000\n",
      "1000000\n",
      "1000000\n",
      "1000000\n",
      "1000000\n",
      "448764\n",
      "1000000\n",
      "1000000\n",
      "1000000\n",
      "1000000\n",
      "1000000\n",
      "1000000\n",
      "1000000\n",
      "1000000\n",
      "1000000\n",
      "1000000\n",
      "1000000\n",
      "1000000\n",
      "1000000\n",
      "1000000\n",
      "1000000\n",
      "1000000\n",
      "1000000\n",
      "1000000\n",
      "1000000\n",
      "1000000\n",
      "1000000\n",
      "1000000\n",
      "1000000\n",
      "1000000\n",
      "1000000\n",
      "1000000\n",
      "1000000\n",
      "1000000\n",
      "1000000\n",
      "1000000\n",
      "1000000\n",
      "1000000\n",
      "1000000\n",
      "1000000\n",
      "1000000\n",
      "1000000\n",
      "1000000\n",
      "1000000\n",
      "1000000\n",
      "1000000\n",
      "1000000\n",
      "1000000\n",
      "1000000\n",
      "1000000\n",
      "1000000\n",
      "1000000\n",
      "1000000\n",
      "1000000\n",
      "1000000\n",
      "1000000\n",
      "1000000\n",
      "1000000\n",
      "1000000\n",
      "1000000\n",
      "1000000\n",
      "1000000\n",
      "1000000\n",
      "1000000\n",
      "1000000\n",
      "1000000\n",
      "1000000\n",
      "1000000\n",
      "1000000\n",
      "1000000\n",
      "1000000\n",
      "1000000\n",
      "1000000\n",
      "501979\n"
     ]
    }
   ],
   "source": [
    "chunksize = 10**6\n",
    "csv_files = ['2019-Oct.csv', '2019-Nov.csv']\n",
    "visits_per_date = {}\n",
    "for csv_file in csv_files:\n",
    "    \n",
    "    for df in pd.read_csv(csv_file, chunksize=chunksize):\n",
    "        print(len(df))\n",
    "       \n",
    "        df['date'] = pd.to_datetime(df['event_time']).dt.date\n",
    "        \n",
    "        visits = df.groupby('date')['date'].count()\n",
    "        \n",
    "        for date, visits in visits.items():\n",
    "            if date not in visits_per_date:\n",
    "                visits_per_date[date] = 0\n",
    "            visits_per_date[date] = visits_per_date[date] + visits\n",
    "        "
   ]
  },
  {
   "cell_type": "code",
   "execution_count": 75,
   "metadata": {},
   "outputs": [],
   "source": [
    "visits_per_date_df = pd.DataFrame.from_dict(visits_per_date, orient='index')\n",
    "visits_per_date_df = visits_per_date_df.reset_index()\n",
    "visits_per_date_df.columns = ['date', 'visits']"
   ]
  },
  {
   "cell_type": "code",
   "execution_count": 88,
   "metadata": {},
   "outputs": [
    {
     "data": {
      "text/html": [
       "<div>\n",
       "<style scoped>\n",
       "    .dataframe tbody tr th:only-of-type {\n",
       "        vertical-align: middle;\n",
       "    }\n",
       "\n",
       "    .dataframe tbody tr th {\n",
       "        vertical-align: top;\n",
       "    }\n",
       "\n",
       "    .dataframe thead th {\n",
       "        text-align: right;\n",
       "    }\n",
       "</style>\n",
       "<table border=\"1\" class=\"dataframe\">\n",
       "  <thead>\n",
       "    <tr style=\"text-align: right;\">\n",
       "      <th></th>\n",
       "      <th>date</th>\n",
       "      <th>visits</th>\n",
       "      <th>day</th>\n",
       "    </tr>\n",
       "  </thead>\n",
       "  <tbody>\n",
       "    <tr>\n",
       "      <th>0</th>\n",
       "      <td>2019-10-01</td>\n",
       "      <td>1244245</td>\n",
       "      <td>1</td>\n",
       "    </tr>\n",
       "    <tr>\n",
       "      <th>1</th>\n",
       "      <td>2019-10-02</td>\n",
       "      <td>1191328</td>\n",
       "      <td>2</td>\n",
       "    </tr>\n",
       "    <tr>\n",
       "      <th>2</th>\n",
       "      <td>2019-10-03</td>\n",
       "      <td>1127303</td>\n",
       "      <td>3</td>\n",
       "    </tr>\n",
       "    <tr>\n",
       "      <th>3</th>\n",
       "      <td>2019-10-04</td>\n",
       "      <td>1417190</td>\n",
       "      <td>4</td>\n",
       "    </tr>\n",
       "    <tr>\n",
       "      <th>4</th>\n",
       "      <td>2019-10-05</td>\n",
       "      <td>1330339</td>\n",
       "      <td>5</td>\n",
       "    </tr>\n",
       "    <tr>\n",
       "      <th>...</th>\n",
       "      <td>...</td>\n",
       "      <td>...</td>\n",
       "      <td>...</td>\n",
       "    </tr>\n",
       "    <tr>\n",
       "      <th>56</th>\n",
       "      <td>2019-11-26</td>\n",
       "      <td>1654879</td>\n",
       "      <td>1</td>\n",
       "    </tr>\n",
       "    <tr>\n",
       "      <th>57</th>\n",
       "      <td>2019-11-27</td>\n",
       "      <td>1646456</td>\n",
       "      <td>2</td>\n",
       "    </tr>\n",
       "    <tr>\n",
       "      <th>58</th>\n",
       "      <td>2019-11-28</td>\n",
       "      <td>1658378</td>\n",
       "      <td>3</td>\n",
       "    </tr>\n",
       "    <tr>\n",
       "      <th>59</th>\n",
       "      <td>2019-11-29</td>\n",
       "      <td>1854426</td>\n",
       "      <td>4</td>\n",
       "    </tr>\n",
       "    <tr>\n",
       "      <th>60</th>\n",
       "      <td>2019-11-30</td>\n",
       "      <td>1754878</td>\n",
       "      <td>5</td>\n",
       "    </tr>\n",
       "  </tbody>\n",
       "</table>\n",
       "<p>61 rows × 3 columns</p>\n",
       "</div>"
      ],
      "text/plain": [
       "          date   visits  day\n",
       "0   2019-10-01  1244245    1\n",
       "1   2019-10-02  1191328    2\n",
       "2   2019-10-03  1127303    3\n",
       "3   2019-10-04  1417190    4\n",
       "4   2019-10-05  1330339    5\n",
       "..         ...      ...  ...\n",
       "56  2019-11-26  1654879    1\n",
       "57  2019-11-27  1646456    2\n",
       "58  2019-11-28  1658378    3\n",
       "59  2019-11-29  1854426    4\n",
       "60  2019-11-30  1754878    5\n",
       "\n",
       "[61 rows x 3 columns]"
      ]
     },
     "execution_count": 88,
     "metadata": {},
     "output_type": "execute_result"
    }
   ],
   "source": [
    "# CAN BE DELETED\n",
    "\n",
    "visits_per_date_df"
   ]
  },
  {
   "cell_type": "code",
   "execution_count": 84,
   "metadata": {},
   "outputs": [],
   "source": [
    "# In what part of the day is your store most visited? \n",
    "# Knowing which days of the week or even which hours of the day shoppers are \n",
    "# likely to visit your online store and make a purchase may help you improve your strategies. \n",
    "# Create a plot that for each day of the week show the hourly average of visitors your store has.\n",
    "\n",
    "visits_per_date_df['day'] = pd.to_datetime(visits_per_date_df['date']).dt.dayofweek\n",
    "average_visits_per_day = visits_per_date_df.groupby('day').mean()\n",
    "\n",
    "# dayofweek - 0 is a Monday, 6 is a Sunday"
   ]
  },
  {
   "cell_type": "code",
   "execution_count": 87,
   "metadata": {},
   "outputs": [
    {
     "data": {
      "text/plain": [
       "<matplotlib.axes._subplots.AxesSubplot at 0x21f86832520>"
      ]
     },
     "execution_count": 87,
     "metadata": {},
     "output_type": "execute_result"
    },
    {
     "data": {
      "image/png": "[encoded data removed]",
      "text/plain": [
       "<Figure size 432x288 with 1 Axes>"
      ]
     },
     "metadata": {
      "needs_background": "light"
     },
     "output_type": "display_data"
    }
   ],
   "source": [
    "average_visits_per_day.plot()"
   ]
  },
  {
   "cell_type": "code",
   "execution_count": null,
   "metadata": {},
   "outputs": [],
   "source": []
  }
 ],
 "metadata": {
  "kernelspec": {
   "display_name": "Python 3",
   "language": "python",
   "name": "python3"
  },
  "language_info": {
   "codemirror_mode": {
    "name": "ipython",
    "version": 3
   },
   "file_extension": ".py",
   "mimetype": "text/x-python",
   "name": "python",
   "nbconvert_exporter": "python",
   "pygments_lexer": "ipython3",
   "version": "3.8.3"
  }
 },
 "nbformat": 4,
 "nbformat_minor": 4
}
